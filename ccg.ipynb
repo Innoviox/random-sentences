{
 "cells": [
  {
   "cell_type": "code",
   "execution_count": 1,
   "id": "7dd90906-6619-4fbc-aade-8a82bfcc2dce",
   "metadata": {},
   "outputs": [],
   "source": [
    "import os\n",
    "\n",
    "files = []\n",
    "for d, s, f in os.walk('ccgbank'):\n",
    "    for file in f:\n",
    "        if file.endswith(\"auto\"):\n",
    "            files.append(f\"{d}/{file}\")"
   ]
  },
  {
   "cell_type": "code",
   "execution_count": 2,
   "id": "c2b940ea-5182-488d-9fec-87330b2f2be2",
   "metadata": {},
   "outputs": [],
   "source": [
    "import re\n",
    "\n",
    "def parse(text):\n",
    "    tokens = []\n",
    "    pattern = re.compile(r\"<L (.*?)>\")\n",
    "    matches = pattern.findall(text)\n",
    "\n",
    "    for match in matches:\n",
    "        parts = match.split()\n",
    "        if len(parts) >= 4:\n",
    "            word = parts[3]\n",
    "            category = parts[0]\n",
    "            cat2 = parts[1]\n",
    "            tokens.append((word, category, cat2))\n",
    "    \n",
    "    return tokens"
   ]
  },
  {
   "cell_type": "code",
   "execution_count": 3,
   "id": "a7d7f99e-58d3-46da-8778-a37d0fe711f5",
   "metadata": {},
   "outputs": [
    {
     "name": "stderr",
     "output_type": "stream",
     "text": [
      "100%|██████████████████████████████████████| 2312/2312 [00:23<00:00, 100.25it/s]\n"
     ]
    }
   ],
   "source": [
    "import tqdm\n",
    "from collections import defaultdict\n",
    "\n",
    "tags = defaultdict(list)\n",
    "words = defaultdict(lambda: defaultdict(int))\n",
    "\n",
    "for file in tqdm.tqdm(files):\n",
    "    with open(file) as f:\n",
    "        for line in f.readlines():\n",
    "            sentence = parse(line)\n",
    "            for word, c1, c2 in sentence:\n",
    "                if word not in tags[(c1, c2)]:\n",
    "                    tags[(c1, c2)].append(word) # sets aren't hashable\n",
    "                for word2, c12, c22 in sentence:\n",
    "                    if word != word2:\n",
    "                        words[word][word2] += 1\n",
    "                        words[word2][word] += 1"
   ]
  },
  {
   "cell_type": "code",
   "execution_count": 4,
   "id": "25e06904-167f-4d04-8d69-627455a3b33b",
   "metadata": {},
   "outputs": [],
   "source": [
    "import pickle\n",
    "pickle.dump(dict(tags), open(\"tags\", \"wb\"))\n",
    "pickle.dump(dict(words), open(\"words\", \"wb\"))"
   ]
  },
  {
   "cell_type": "code",
   "execution_count": 5,
   "id": "9639c0c3-888c-41ba-82e7-ff4b0e6effdb",
   "metadata": {},
   "outputs": [
    {
     "name": "stderr",
     "output_type": "stream",
     "text": [
      "100%|█████████████████████████████████████| 2312/2312 [00:01<00:00, 1836.41it/s]\n"
     ]
    }
   ],
   "source": [
    "all_sents = []\n",
    "for file in tqdm.tqdm(files):\n",
    "    with open(file) as f:\n",
    "        for line in f.readlines():\n",
    "            all_sents.append(parse(line))"
   ]
  },
  {
   "cell_type": "code",
   "execution_count": 6,
   "id": "f36a1a9f-ac48-4456-a480-5594e8aa4566",
   "metadata": {},
   "outputs": [],
   "source": [
    "pickle.dump(all_sents, open(\"all_sents\", \"wb\"))"
   ]
  },
  {
   "cell_type": "code",
   "execution_count": 7,
   "id": "af9b5768-34df-4461-a733-57e4617c3be7",
   "metadata": {},
   "outputs": [],
   "source": [
    "import random\n",
    "random.shuffle(all_sents)"
   ]
  },
  {
   "cell_type": "code",
   "execution_count": 10,
   "id": "c6641a5c-40da-47a3-83b7-09e53b0a6747",
   "metadata": {},
   "outputs": [],
   "source": [
    "sents = []\n",
    "sents = [[i, ' '.join(j[0] for j in all_sents[int(i)])] for i in sents]\n",
    "for i in range(1000):\n",
    "    sent = []\n",
    "    while len(sent) < 5 or len(sent) > 50:\n",
    "        sent = random.choice(all_sents)\n",
    "    sents.append([all_sents.index(sent), ' '.join(i[0] for i in sent)])"
   ]
  },
  {
   "cell_type": "code",
   "execution_count": 11,
   "id": "8e3ed37c-c10f-49f2-b18c-817af957d6e9",
   "metadata": {},
   "outputs": [
    {
     "name": "stderr",
     "output_type": "stream",
     "text": [
      "100%|███████████████████████████████████| 1000/1000 [00:00<00:00, 105252.30it/s]\n"
     ]
    }
   ],
   "source": [
    "import csv\n",
    "with open(\"devset.csv\", \"w\") as csvfile:\n",
    "    writer = csv.DictWriter(csvfile, fieldnames=['Sentence ID', 'Original Sentence', 'New Sentence'])\n",
    "    writer.writeheader()\n",
    "\n",
    "    for x in tqdm.tqdm(sents):\n",
    "        sent_id, sent = x\n",
    "        writer.writerow({'Sentence ID': sent_id, 'Original Sentence': sent})"
   ]
  },
  {
   "cell_type": "code",
   "execution_count": 12,
   "id": "d576e938-ac79-4bdd-808d-4feef1612834",
   "metadata": {},
   "outputs": [],
   "source": [
    "def frequency(word):\n",
    "    return sum(words[word].values())"
   ]
  },
  {
   "cell_type": "code",
   "execution_count": 13,
   "id": "8b21c7d3-6b1f-4372-b9a1-2f69c30ebb15",
   "metadata": {},
   "outputs": [],
   "source": [
    "from llr import llr_2x2\n",
    "k22a = 0\n",
    "for k, v in words.items():\n",
    "    k22a += sum(v.values())\n",
    "k22a //= 2\n",
    "def get_llr(w1, w2):\n",
    "    k11 = words[w1][w2]\n",
    "    k12 = sum(words[w1].values()) - k11\n",
    "    k21 = sum(words[w2].values()) - k11\n",
    "    k22 = k22a - k12 - k21 - k11\n",
    "    return llr_2x2(k11, k12, k21, k22)    \n",
    "\n",
    "def get_sentence_llr(sent):\n",
    "    total = 0\n",
    "    for token1 in sent:\n",
    "        for token2 in sent:\n",
    "            total += get_llr(token1, token2)\n",
    "    return total"
   ]
  },
  {
   "cell_type": "code",
   "execution_count": 14,
   "id": "1088bfa1-a2f6-4f61-962f-f827c077c0a0",
   "metadata": {},
   "outputs": [],
   "source": [
    "def replace(word, c1, c2):\n",
    "    if word in [\"n't\", \"'s\", \"'m\", \"to\", \"%\"]:\n",
    "        return False\n",
    "    if c1 in [r'(S[dcl]\\NP)/(S[b]\\NP)', 'NP[nb]/N', r'(NP\\NP)/NP', 'conj', ',', '.',  r'(S[b]\\NP)/(S[adj]\\NP)', r'(S[dcl]\\NP)/(S[ng]\\NP)', r'(NP\\NP)/(NP\\NP)', r'(S[dcl]\\NP)/(S[pss]\\NP)']:\n",
    "        return False\n",
    "    if c2 in ['$', 'DT', 'IN', 'CC', 'PRP', 'CD', 'MD', 'NNP']:\n",
    "        return False\n",
    "    return True\n",
    "\n",
    "def get_replacements(sent_id):\n",
    "    sent = all_sents[sent_id]\n",
    "    # print(\"got sent\", sent)\n",
    "    repl = []\n",
    "    for word, c1, c2 in sent:\n",
    "        if not replace(word, c1, c2):\n",
    "            continue\n",
    "        else:\n",
    "            w = None\n",
    "            while not w:# or frequency(w) < 1000 or len(w) < 3:\n",
    "                w = random.choice(tags[(c1, c2)])\n",
    "            # print(\"replacing\", word, c1, c2, 'with', w)\n",
    "            # print(w, end = ' ') # frequency(w), \n",
    "            repl.append(w)\n",
    "    return repl\n",
    "\n",
    "def do_replacements(sent_id, repls):\n",
    "    sent = all_sents[sent_id]\n",
    "    # print(\"got sent\", sent)\n",
    "    new_sent = []\n",
    "    i = 0\n",
    "    for word, c1, c2 in sent:\n",
    "        if not replace(word, c1, c2):\n",
    "            new_sent.append(word)\n",
    "        else:\n",
    "            new_sent.append(repls[i])\n",
    "            i += 1\n",
    "    return new_sent"
   ]
  },
  {
   "cell_type": "code",
   "execution_count": 35,
   "id": "21100394-7311-4f23-a75e-022cb42826fc",
   "metadata": {},
   "outputs": [
    {
     "name": "stderr",
     "output_type": "stream",
     "text": [
      "100%|███████████████████████████████████████████| 25/25 [00:00<00:00, 76.92it/s]\n"
     ]
    }
   ],
   "source": [
    "import csv\n",
    "def clean(i):\n",
    "    return i.replace(\" ,\", \",\").replace(\" .\", \".\").replace(\" :\", \":\")\n",
    "with open(\"devset_wrong.csv\", \"w\") as devset_wrong:\n",
    "    writer = csv.DictWriter(devset_wrong, fieldnames=['S1_ID', 'S2_ID', 'Original Sentence', 'New Sentence'])\n",
    "    writer.writeheader()\n",
    "\n",
    "    for _ in tqdm.tqdm(range(25)):\n",
    "        s = []\n",
    "        while len(s) < 5:\n",
    "            s = random.choice(all_sents)\n",
    "        s1i = all_sents.index(s)\n",
    "        \n",
    "        s2 = random.choice([i for i in all_sents if len(i) == len(s)])\n",
    "        s2i = all_sents.index(s2)\n",
    "        # print(' '.join(i[0] for i in s))\n",
    "        # print(' '.join(do_replacements(s2i, get_replacements(s2i))))\n",
    "        writer.writerow({\n",
    "            'S1_ID': s1i,\n",
    "            'S2_ID': s2i,\n",
    "            'Original Sentence': clean(' '.join(i[0] for i in s)),\n",
    "            'New Sentence': clean(' '.join(do_replacements(s2i, get_replacements(s2i))))\n",
    "        })"
   ]
  },
  {
   "cell_type": "code",
   "execution_count": 16,
   "id": "db5c2594-e72a-42f5-b82f-6cdee0c91fb9",
   "metadata": {},
   "outputs": [
    {
     "ename": "IndexError",
     "evalue": "list index out of range",
     "output_type": "error",
     "traceback": [
      "\u001b[0;31m---------------------------------------------------------------------------\u001b[0m",
      "\u001b[0;31mIndexError\u001b[0m                                Traceback (most recent call last)",
      "Cell \u001b[0;32mIn[16], line 1\u001b[0m\n\u001b[0;32m----> 1\u001b[0m do_replacements(\u001b[38;5;241m184490\u001b[39m, \u001b[43mget_replacements\u001b[49m\u001b[43m(\u001b[49m\u001b[38;5;241;43m184490\u001b[39;49m\u001b[43m)\u001b[49m)\n",
      "Cell \u001b[0;32mIn[14], line 11\u001b[0m, in \u001b[0;36mget_replacements\u001b[0;34m(sent_id)\u001b[0m\n\u001b[1;32m     10\u001b[0m \u001b[38;5;28;01mdef\u001b[39;00m \u001b[38;5;21mget_replacements\u001b[39m(sent_id):\n\u001b[0;32m---> 11\u001b[0m     sent \u001b[38;5;241m=\u001b[39m \u001b[43mall_sents\u001b[49m\u001b[43m[\u001b[49m\u001b[43msent_id\u001b[49m\u001b[43m]\u001b[49m\n\u001b[1;32m     12\u001b[0m     \u001b[38;5;66;03m# print(\"got sent\", sent)\u001b[39;00m\n\u001b[1;32m     13\u001b[0m     repl \u001b[38;5;241m=\u001b[39m []\n",
      "\u001b[0;31mIndexError\u001b[0m: list index out of range"
     ]
    }
   ],
   "source": [
    "do_replacements(184490, get_replacements(184490))"
   ]
  },
  {
   "cell_type": "code",
   "execution_count": 17,
   "id": "fee36326-20e8-4dd1-8786-4ad0f86ad34e",
   "metadata": {},
   "outputs": [
    {
     "name": "stderr",
     "output_type": "stream",
     "text": [
      "100%|███████████████████████████████████████| 1000/1000 [00:23<00:00, 41.99it/s]\n",
      "100%|███████████████████████████████████| 1000/1000 [00:00<00:00, 267255.26it/s]\n"
     ]
    }
   ],
   "source": [
    "import csv\n",
    "\n",
    "rows = []\n",
    "with open(\"devset.csv\") as devset:\n",
    "    reader = csv.DictReader(devset)\n",
    "    for row in tqdm.tqdm(reader, total=len(sents)):\n",
    "        sent_id = int(row[\"Sentence ID\"])\n",
    "        orig = row[\"Original Sentence\"]\n",
    "\n",
    "        replacement_candidates = [get_replacements(sent_id) for _ in range(10)]\n",
    "        best_candidate = max(replacement_candidates, key=get_sentence_llr)\n",
    "        # for i in replacement_candidates:\n",
    "            # print(' '.join(do_replacements(sent_id, i)))\n",
    "            # print(\"llr\", get_sentence_llr(i))\n",
    "        new_sentence = ' '.join(do_replacements(sent_id, best_candidate))\n",
    "        # input()\n",
    "        rows.append({\"Sentence ID\": sent_id, \"Original Sentence\": orig, \"New Sentence\": new_sentence})\n",
    "\n",
    "with open(\"devset.csv\", \"w\") as csvfile:\n",
    "    writer = csv.DictWriter(csvfile, fieldnames=['Sentence ID', 'Original Sentence', 'New Sentence'])\n",
    "    writer.writeheader()\n",
    "\n",
    "    for row in tqdm.tqdm(rows):\n",
    "        writer.writerow(row)\n"
   ]
  },
  {
   "cell_type": "code",
   "execution_count": 19,
   "id": "922b5686-34f4-471a-9657-aa579a2b305d",
   "metadata": {},
   "outputs": [
    {
     "name": "stderr",
     "output_type": "stream",
     "text": [
      "1000it [00:00, 39098.98it/s]\n"
     ]
    }
   ],
   "source": [
    "with open(\"devset_new/orig.csv\") as f:\n",
    "    reader = csv.DictReader(f)\n",
    "    rows = []\n",
    "    i = 0\n",
    "    for row in tqdm.tqdm(reader):\n",
    "        rows.append(row)\n",
    "        if len(rows) == 50:\n",
    "            with open(f\"devset_new/orig_{i}.csv\", \"w\") as f2:\n",
    "                writer = csv.DictWriter(f2, fieldnames=['Sentence ID', 'Original Sentence', 'New Sentence'])\n",
    "                writer.writeheader()\n",
    "\n",
    "                for row in rows:\n",
    "                    writer.writerow(row)\n",
    "            i += 1\n",
    "            rows = []"
   ]
  },
  {
   "cell_type": "code",
   "execution_count": 51,
   "id": "07a46f94-fe25-4197-91e6-e8e4f9faf902",
   "metadata": {
    "scrolled": true
   },
   "outputs": [
    {
     "name": "stdout",
     "output_type": "stream",
     "text": [
      "[['10', '12'], ['2', '4'], ['7', '8'], ['3', '4'], ['4', '18'], ['8', '10'], ['14', '15'], ['5', '6'], ['11', '12'], ['16', '18'], ['4', '6'], ['10', '13'], ['9', '10'], ['15', '16'], ['12', '15'], ['1', '4'], ['16', '17']]\n",
      "[['11', '12'], ['16', '18'], ['3', '4'], ['14', '15'], ['8', '10'], ['2', '4'], ['5', '6'], ['6', '7'], ['9', '10'], ['15', '18'], ['1', '4'], ['10', '12'], ['16', '17'], ['10', '13'], ['4', '6'], ['6', '8'], ['13', '14']] 13 17\n",
      "[['7', '8'], ['11', '12'], ['2', '4'], ['8', '10'], ['3', '4'], ['9', '10'], ['10', '12'], ['10', '13'], ['16', '18'], ['14', '15'], ['1', '4'], ['16', '17'], ['15', '16'], ['4', '18'], ['5', '6'], ['12', '15'], ['4', '6']] 17 17\n",
      "[['7', '8'], ['3', '4'], ['8', '10'], ['14', '15'], ['2', '4'], ['16', '18'], ['9', '10'], ['15', '16'], ['6', '8'], ['1', '4'], ['5', '6'], ['11', '12'], ['4', '6'], ['10', '12'], ['16', '17'], ['10', '13'], ['4', '18']] 16 17\n",
      "[['14', '15'], ['8', '10'], ['7', '8'], ['16', '18'], ['4', '6'], ['5', '6'], ['3', '4'], ['10', '13'], ['2', '3'], ['9', '10'], ['11', '12'], ['10', '12'], ['1', '3'], ['15', '16'], ['10', '15'], ['6', '10'], ['17', '18']] 12 17\n",
      "[['7', '8'], ['16', '18'], ['2', '4'], ['3', '4'], ['8', '10'], ['5', '6'], ['4', '6'], ['11', '12'], ['1', '4'], ['10', '13'], ['17', '18'], ['14', '15'], ['9', '10'], ['12', '13'], ['4', '8'], ['13', '15'], ['15', '16']] 13 17\n",
      "[['7', '8'], ['8', '10'], ['10', '12'], ['9', '10'], ['14', '16'], ['11', '12'], ['5', '6'], ['10', '13'], ['3', '4'], ['4', '6'], ['14', '15'], ['2', '3'], ['16', '17'], ['14', '18'], ['6', '8'], ['1', '2'], ['13', '14']] 11 17\n",
      "[['8', '10'], ['9', '10'], ['7', '8'], ['3', '4'], ['11', '12'], ['10', '12'], ['14', '15'], ['16', '18'], ['12', '15'], ['5', '6'], ['17', '18'], ['10', '13'], ['4', '6'], ['1', '4'], ['2', '3'], ['6', '10'], ['15', '16']] 14 17\n",
      "[['8', '9'], ['3', '4'], ['13', '14'], ['10', '11'], ['16', '17'], ['2', '3'], ['18', '19'], ['14', '17'], ['14', '15'], ['1', '4'], ['4', '20'], ['9', '10'], ['5', '6'], ['4', '6'], ['17', '20'], ['6', '9'], ['17', '18']] 7 17\n",
      "[['7', '8'], ['4', '6'], ['10', '13'], ['3', '4'], ['9', '10'], ['5', '6'], ['8', '10'], ['11', '12'], ['10', '12'], ['2', '4'], ['6', '8'], ['4', '18'], ['16', '18'], ['16', '17'], ['14', '15'], ['1', '2'], ['15', '16']] 15 17\n",
      "[['7', '8'], ['14', '15'], ['3', '4'], ['9', '10'], ['8', '10'], ['4', '6'], ['16', '18'], ['11', '12'], ['10', '13'], ['1', '4'], ['2', '4'], ['15', '16'], ['10', '12'], ['12', '15'], ['6', '7'], ['16', '17'], ['5', '6']] 16 17\n",
      "Average UUAS for test 1: 0.788235294117647\n",
      "[['8', '9'], ['4', '5'], ['9', '10'], ['6', '7'], ['3', '5'], ['7', '9'], ['2', '3'], ['5', '7'], ['1', '3'], ['5', '12'], ['10', '11']]\n",
      "[['10', '12'], ['7', '12'], ['8', '9'], ['4', '5'], ['3', '5'], ['1', '3'], ['5', '12'], ['2', '5'], ['6', '7'], ['7', '9'], ['10', '11']] 8 11\n",
      "[['10', '12'], ['2', '3'], ['7', '10'], ['7', '9'], ['6', '7'], ['11', '12'], ['4', '5'], ['8', '9'], ['1', '3'], ['3', '5'], ['5', '6']] 7 11\n",
      "[['7', '9'], ['4', '5'], ['3', '5'], ['1', '3'], ['8', '9'], ['6', '7'], ['10', '12'], ['9', '10'], ['5', '12'], ['2', '3'], ['10', '11']] 10 11\n",
      "[['4', '5'], ['2', '3'], ['8', '9'], ['10', '12'], ['6', '7'], ['7', '8'], ['7', '12'], ['3', '5'], ['1', '2'], ['5', '7'], ['10', '11']] 7 11\n",
      "[['2', '3'], ['10', '12'], ['5', '6'], ['1', '3'], ['3', '5'], ['4', '5'], ['6', '12'], ['7', '9'], ['6', '7'], ['7', '8'], ['10', '11']] 7 11\n",
      "[['9', '10'], ['7', '9'], ['10', '12'], ['1', '3'], ['8', '9'], ['2', '3'], ['4', '5'], ['3', '5'], ['5', '7'], ['6', '7'], ['11', '12']] 9 11\n",
      "[['4', '5'], ['7', '8'], ['2', '3'], ['8', '9'], ['10', '12'], ['1', '3'], ['3', '5'], ['6', '7'], ['8', '10'], ['11', '12'], ['5', '6']] 6 11\n",
      "[['10', '12'], ['9', '10'], ['7', '9'], ['8', '9'], ['4', '5'], ['11', '12'], ['6', '7'], ['1', '3'], ['1', '2'], ['5', '7'], ['2', '5']] 7 11\n",
      "[['2', '3'], ['8', '9'], ['10', '12'], ['4', '5'], ['3', '5'], ['1', '3'], ['5', '6'], ['7', '9'], ['9', '12'], ['11', '12'], ['6', '7']] 7 11\n",
      "[['9', '10'], ['3', '5'], ['10', '12'], ['7', '9'], ['4', '5'], ['6', '7'], ['8', '9'], ['2', '3'], ['1', '3'], ['5', '6'], ['10', '11']] 9 11\n",
      "Average UUAS for test 2: 0.7\n",
      "[['1', '2'], ['3', '4'], ['4', '7'], ['6', '7'], ['2', '4'], ['5', '7'], ['8', '10'], ['7', '8'], ['9', '10']]\n",
      "[['3', '4'], ['1', '2'], ['6', '7'], ['4', '10'], ['4', '6'], ['8', '10'], ['2', '3'], ['4', '5'], ['8', '9']] 4 9\n",
      "[['1', '2'], ['3', '4'], ['8', '10'], ['7', '8'], ['2', '4'], ['4', '5'], ['4', '10'], ['6', '7'], ['8', '9']] 6 9\n",
      "[['4', '7'], ['7', '8'], ['8', '10'], ['3', '4'], ['1', '2'], ['2', '4'], ['5', '7'], ['6', '7'], ['8', '9']] 8 9\n",
      "[['7', '8'], ['6', '7'], ['1', '2'], ['8', '10'], ['3', '4'], ['5', '6'], ['1', '4'], ['4', '6'], ['9', '10']] 6 9\n",
      "[['1', '2'], ['8', '10'], ['3', '4'], ['6', '7'], ['4', '5'], ['7', '8'], ['5', '7'], ['8', '9'], ['2', '4']] 7 9\n",
      "[['1', '2'], ['2', '4'], ['3', '4'], ['6', '7'], ['8', '10'], ['4', '5'], ['5', '6'], ['7', '8'], ['9', '10']] 7 9\n",
      "[['4', '10'], ['8', '10'], ['1', '2'], ['4', '7'], ['3', '4'], ['4', '5'], ['6', '7'], ['8', '9'], ['2', '4']] 6 9\n",
      "[['1', '2'], ['4', '7'], ['8', '10'], ['3', '4'], ['4', '8'], ['6', '7'], ['5', '6'], ['9', '10'], ['2', '3']] 6 9\n",
      "[['8', '10'], ['4', '7'], ['6', '7'], ['3', '4'], ['5', '7'], ['1', '2'], ['4', '10'], ['9', '10'], ['2', '4']] 8 9\n",
      "[['4', '7'], ['6', '7'], ['3', '4'], ['8', '10'], ['4', '10'], ['5', '7'], ['2', '4'], ['1', '2'], ['8', '9']] 7 9\n",
      "Average UUAS for test 3: 0.7222222222222222\n"
     ]
    }
   ],
   "source": [
    "def parse_individual_tikz(tikz):\n",
    "    # print(tikz)\n",
    "    lines = tikz.split(r\"\\depedge[edge style={red!60!}, edge below]\")\n",
    "    lines = [i for i in lines if i.startswith(\"{\")]\n",
    "    # print(lines)\n",
    "    lines = [[j.strip(\"{\") for j in i.split(\"\\n\")[0].strip().split(\"}\")[:-2]] for i in lines]\n",
    "    # print(lines, len(lines))\n",
    "    # lines = {a:b for a, b in lines}\n",
    "    # print(lines)\n",
    "    return lines\n",
    "    \n",
    "def parse_full_tikz(tikz_file):\n",
    "    with open(tikz_file, \"r\") as f:\n",
    "        for tikz in f.read().split(r\"\\begin{dependency}\")[1:]:\n",
    "            yield parse_individual_tikz(tikz)\n",
    "\n",
    "def compute_uuas(ground, test):\n",
    "    n_correct = 0\n",
    "    n_total = 0\n",
    "    for (k, v) in test:\n",
    "        n_total += 1\n",
    "        if [k, v] in ground:\n",
    "            n_correct += 1\n",
    "    print(test, n_correct, n_total)\n",
    "    return n_correct / n_total\n",
    "\n",
    "for i in range(1, 4):\n",
    "    file = f\"/Users/simonchervenak/Documents/GitHub/structural-probes/example/results/test{i}/demo.tikz\"\n",
    "    orig, *new = parse_full_tikz(file)\n",
    "\n",
    "    print(orig)\n",
    "    x = [compute_uuas(orig, i) for i in new]\n",
    "    print(f\"Average UUAS for test {i}:\", sum(x) / len(x))"
   ]
  },
  {
   "cell_type": "code",
   "execution_count": 39,
   "id": "1df5bc64-0d36-4ee4-8a0e-55a2a6c75a17",
   "metadata": {},
   "outputs": [],
   "source": [
    "from llr import llr_2x2"
   ]
  },
  {
   "cell_type": "code",
   "execution_count": 40,
   "id": "e643d983-cab6-4878-acf7-4a87ccecd96e",
   "metadata": {},
   "outputs": [],
   "source": [
    "k22a = 0\n",
    "for k, v in words.items():\n",
    "    k22a += sum(v.values())\n",
    "k22a //= 2\n",
    "def get_llr(w1, w2):\n",
    "    k11 = words[w1][w2]\n",
    "    k12 = sum(words[w1].values()) - k11\n",
    "    k21 = sum(words[w2].values()) - k11\n",
    "    k22 = k22a - k12 - k21 - k11\n",
    "    return llr_2x2(k11, k12, k21, k22)"
   ]
  },
  {
   "cell_type": "code",
   "execution_count": 47,
   "id": "7e98c958-39d8-4441-9128-1e21fe527f71",
   "metadata": {},
   "outputs": [
    {
     "data": {
      "text/plain": [
       "4.6881918320432305"
      ]
     },
     "execution_count": 47,
     "metadata": {},
     "output_type": "execute_result"
    }
   ],
   "source": [
    "get_llr('created', 'doors')"
   ]
  },
  {
   "cell_type": "code",
   "execution_count": null,
   "id": "0177a587-296c-4c20-bc4f-2d3bad62f251",
   "metadata": {},
   "outputs": [],
   "source": [
    "distance = []\n",
    "for i in range(1, 4):\n",
    "    file = f\"/Users/simonchervenak/Documents/GitHub/structural-probes/example/results/test{i}/demo.tikz\"\n",
    "    orig, *new = parse_full_tikz(file)\n",
    "\n",
    "    test = f\"/Users/simonchervenak/Documents/GitHub/structural-probes/test{i}\"\n",
    "    orig_sent, *new_sents = open(test).read().split(\"\\n\")\n",
    "    orig_sent = orig_sent.split()\n",
    "    new_sents = [new_sent.split() for new_sent in new_sents]\n",
    "    \n",
    "    for n in new:\n",
    "        "
   ]
  },
  {
   "cell_type": "code",
   "execution_count": null,
   "id": "f7ba7230-a8df-4809-97fc-73981ea892c4",
   "metadata": {},
   "outputs": [
    {
     "data": {
      "text/html": [
       "<span class=\"tex2jax_ignore\"><!DOCTYPE html>\n",
       "<html lang=\"en\">\n",
       "    <head>\n",
       "        <title>displaCy</title>\n",
       "    </head>\n",
       "\n",
       "    <body style=\"font-size: 16px; font-family: -apple-system, BlinkMacSystemFont, 'Segoe UI', Helvetica, Arial, sans-serif, 'Apple Color Emoji', 'Segoe UI Emoji', 'Segoe UI Symbol'; padding: 4rem 2rem; direction: ltr\">\n",
       "<figure style=\"margin-bottom: 6rem\">\n",
       "<svg xmlns=\"http://www.w3.org/2000/svg\" xmlns:xlink=\"http://www.w3.org/1999/xlink\" xml:lang=\"en\" id=\"e7e79ccdb1044e599609ad46b2f0e5c3-0\" class=\"displacy\" width=\"1975\" height=\"399.5\" direction=\"ltr\" style=\"max-width: none; height: 399.5px; color: #000000; background: #ffffff; font-family: Arial; direction: ltr\">\n",
       "<text class=\"displacy-token\" fill=\"currentColor\" text-anchor=\"middle\" y=\"309.5\">\n",
       "    <tspan class=\"displacy-word\" fill=\"currentColor\" x=\"50\">The</tspan>\n",
       "    <tspan class=\"displacy-tag\" dy=\"2em\" fill=\"currentColor\" x=\"50\">DET</tspan>\n",
       "</text>\n",
       "\n",
       "<text class=\"displacy-token\" fill=\"currentColor\" text-anchor=\"middle\" y=\"309.5\">\n",
       "    <tspan class=\"displacy-word\" fill=\"currentColor\" x=\"225\">chef</tspan>\n",
       "    <tspan class=\"displacy-tag\" dy=\"2em\" fill=\"currentColor\" x=\"225\">NOUN</tspan>\n",
       "</text>\n",
       "\n",
       "<text class=\"displacy-token\" fill=\"currentColor\" text-anchor=\"middle\" y=\"309.5\">\n",
       "    <tspan class=\"displacy-word\" fill=\"currentColor\" x=\"400\">who</tspan>\n",
       "    <tspan class=\"displacy-tag\" dy=\"2em\" fill=\"currentColor\" x=\"400\">PRON</tspan>\n",
       "</text>\n",
       "\n",
       "<text class=\"displacy-token\" fill=\"currentColor\" text-anchor=\"middle\" y=\"309.5\">\n",
       "    <tspan class=\"displacy-word\" fill=\"currentColor\" x=\"575\">ran</tspan>\n",
       "    <tspan class=\"displacy-tag\" dy=\"2em\" fill=\"currentColor\" x=\"575\">VERB</tspan>\n",
       "</text>\n",
       "\n",
       "<text class=\"displacy-token\" fill=\"currentColor\" text-anchor=\"middle\" y=\"309.5\">\n",
       "    <tspan class=\"displacy-word\" fill=\"currentColor\" x=\"750\">to</tspan>\n",
       "    <tspan class=\"displacy-tag\" dy=\"2em\" fill=\"currentColor\" x=\"750\">ADP</tspan>\n",
       "</text>\n",
       "\n",
       "<text class=\"displacy-token\" fill=\"currentColor\" text-anchor=\"middle\" y=\"309.5\">\n",
       "    <tspan class=\"displacy-word\" fill=\"currentColor\" x=\"925\">the</tspan>\n",
       "    <tspan class=\"displacy-tag\" dy=\"2em\" fill=\"currentColor\" x=\"925\">DET</tspan>\n",
       "</text>\n",
       "\n",
       "<text class=\"displacy-token\" fill=\"currentColor\" text-anchor=\"middle\" y=\"309.5\">\n",
       "    <tspan class=\"displacy-word\" fill=\"currentColor\" x=\"1100\">stores</tspan>\n",
       "    <tspan class=\"displacy-tag\" dy=\"2em\" fill=\"currentColor\" x=\"1100\">NOUN</tspan>\n",
       "</text>\n",
       "\n",
       "<text class=\"displacy-token\" fill=\"currentColor\" text-anchor=\"middle\" y=\"309.5\">\n",
       "    <tspan class=\"displacy-word\" fill=\"currentColor\" x=\"1275\">is</tspan>\n",
       "    <tspan class=\"displacy-tag\" dy=\"2em\" fill=\"currentColor\" x=\"1275\">AUX</tspan>\n",
       "</text>\n",
       "\n",
       "<text class=\"displacy-token\" fill=\"currentColor\" text-anchor=\"middle\" y=\"309.5\">\n",
       "    <tspan class=\"displacy-word\" fill=\"currentColor\" x=\"1450\">out</tspan>\n",
       "    <tspan class=\"displacy-tag\" dy=\"2em\" fill=\"currentColor\" x=\"1450\">ADP</tspan>\n",
       "</text>\n",
       "\n",
       "<text class=\"displacy-token\" fill=\"currentColor\" text-anchor=\"middle\" y=\"309.5\">\n",
       "    <tspan class=\"displacy-word\" fill=\"currentColor\" x=\"1625\">of</tspan>\n",
       "    <tspan class=\"displacy-tag\" dy=\"2em\" fill=\"currentColor\" x=\"1625\">ADP</tspan>\n",
       "</text>\n",
       "\n",
       "<text class=\"displacy-token\" fill=\"currentColor\" text-anchor=\"middle\" y=\"309.5\">\n",
       "    <tspan class=\"displacy-word\" fill=\"currentColor\" x=\"1800\">food.</tspan>\n",
       "    <tspan class=\"displacy-tag\" dy=\"2em\" fill=\"currentColor\" x=\"1800\">NOUN</tspan>\n",
       "</text>\n",
       "\n",
       "<g class=\"displacy-arrow\">\n",
       "    <path class=\"displacy-arc\" id=\"arrow-e7e79ccdb1044e599609ad46b2f0e5c3-0-0\" stroke-width=\"2px\" d=\"M70,264.5 C70,177.0 215.0,177.0 215.0,264.5\" fill=\"none\" stroke=\"currentColor\"/>\n",
       "    <text dy=\"1.25em\" style=\"font-size: 0.8em; letter-spacing: 1px\">\n",
       "        <textPath xlink:href=\"#arrow-e7e79ccdb1044e599609ad46b2f0e5c3-0-0\" class=\"displacy-label\" startOffset=\"50%\" side=\"left\" fill=\"currentColor\" text-anchor=\"middle\">det</textPath>\n",
       "    </text>\n",
       "    <path class=\"displacy-arrowhead\" d=\"M70,266.5 L62,254.5 78,254.5\" fill=\"currentColor\"/>\n",
       "</g>\n",
       "\n",
       "<g class=\"displacy-arrow\">\n",
       "    <path class=\"displacy-arc\" id=\"arrow-e7e79ccdb1044e599609ad46b2f0e5c3-0-1\" stroke-width=\"2px\" d=\"M245,264.5 C245,2.0 1275.0,2.0 1275.0,264.5\" fill=\"none\" stroke=\"currentColor\"/>\n",
       "    <text dy=\"1.25em\" style=\"font-size: 0.8em; letter-spacing: 1px\">\n",
       "        <textPath xlink:href=\"#arrow-e7e79ccdb1044e599609ad46b2f0e5c3-0-1\" class=\"displacy-label\" startOffset=\"50%\" side=\"left\" fill=\"currentColor\" text-anchor=\"middle\">nsubj</textPath>\n",
       "    </text>\n",
       "    <path class=\"displacy-arrowhead\" d=\"M245,266.5 L237,254.5 253,254.5\" fill=\"currentColor\"/>\n",
       "</g>\n",
       "\n",
       "<g class=\"displacy-arrow\">\n",
       "    <path class=\"displacy-arc\" id=\"arrow-e7e79ccdb1044e599609ad46b2f0e5c3-0-2\" stroke-width=\"2px\" d=\"M420,264.5 C420,177.0 565.0,177.0 565.0,264.5\" fill=\"none\" stroke=\"currentColor\"/>\n",
       "    <text dy=\"1.25em\" style=\"font-size: 0.8em; letter-spacing: 1px\">\n",
       "        <textPath xlink:href=\"#arrow-e7e79ccdb1044e599609ad46b2f0e5c3-0-2\" class=\"displacy-label\" startOffset=\"50%\" side=\"left\" fill=\"currentColor\" text-anchor=\"middle\">nsubj</textPath>\n",
       "    </text>\n",
       "    <path class=\"displacy-arrowhead\" d=\"M420,266.5 L412,254.5 428,254.5\" fill=\"currentColor\"/>\n",
       "</g>\n",
       "\n",
       "<g class=\"displacy-arrow\">\n",
       "    <path class=\"displacy-arc\" id=\"arrow-e7e79ccdb1044e599609ad46b2f0e5c3-0-3\" stroke-width=\"2px\" d=\"M245,264.5 C245,89.5 570.0,89.5 570.0,264.5\" fill=\"none\" stroke=\"currentColor\"/>\n",
       "    <text dy=\"1.25em\" style=\"font-size: 0.8em; letter-spacing: 1px\">\n",
       "        <textPath xlink:href=\"#arrow-e7e79ccdb1044e599609ad46b2f0e5c3-0-3\" class=\"displacy-label\" startOffset=\"50%\" side=\"left\" fill=\"currentColor\" text-anchor=\"middle\">relcl</textPath>\n",
       "    </text>\n",
       "    <path class=\"displacy-arrowhead\" d=\"M570.0,266.5 L578.0,254.5 562.0,254.5\" fill=\"currentColor\"/>\n",
       "</g>\n",
       "\n",
       "<g class=\"displacy-arrow\">\n",
       "    <path class=\"displacy-arc\" id=\"arrow-e7e79ccdb1044e599609ad46b2f0e5c3-0-4\" stroke-width=\"2px\" d=\"M595,264.5 C595,177.0 740.0,177.0 740.0,264.5\" fill=\"none\" stroke=\"currentColor\"/>\n",
       "    <text dy=\"1.25em\" style=\"font-size: 0.8em; letter-spacing: 1px\">\n",
       "        <textPath xlink:href=\"#arrow-e7e79ccdb1044e599609ad46b2f0e5c3-0-4\" class=\"displacy-label\" startOffset=\"50%\" side=\"left\" fill=\"currentColor\" text-anchor=\"middle\">prep</textPath>\n",
       "    </text>\n",
       "    <path class=\"displacy-arrowhead\" d=\"M740.0,266.5 L748.0,254.5 732.0,254.5\" fill=\"currentColor\"/>\n",
       "</g>\n",
       "\n",
       "<g class=\"displacy-arrow\">\n",
       "    <path class=\"displacy-arc\" id=\"arrow-e7e79ccdb1044e599609ad46b2f0e5c3-0-5\" stroke-width=\"2px\" d=\"M945,264.5 C945,177.0 1090.0,177.0 1090.0,264.5\" fill=\"none\" stroke=\"currentColor\"/>\n",
       "    <text dy=\"1.25em\" style=\"font-size: 0.8em; letter-spacing: 1px\">\n",
       "        <textPath xlink:href=\"#arrow-e7e79ccdb1044e599609ad46b2f0e5c3-0-5\" class=\"displacy-label\" startOffset=\"50%\" side=\"left\" fill=\"currentColor\" text-anchor=\"middle\">det</textPath>\n",
       "    </text>\n",
       "    <path class=\"displacy-arrowhead\" d=\"M945,266.5 L937,254.5 953,254.5\" fill=\"currentColor\"/>\n",
       "</g>\n",
       "\n",
       "<g class=\"displacy-arrow\">\n",
       "    <path class=\"displacy-arc\" id=\"arrow-e7e79ccdb1044e599609ad46b2f0e5c3-0-6\" stroke-width=\"2px\" d=\"M770,264.5 C770,89.5 1095.0,89.5 1095.0,264.5\" fill=\"none\" stroke=\"currentColor\"/>\n",
       "    <text dy=\"1.25em\" style=\"font-size: 0.8em; letter-spacing: 1px\">\n",
       "        <textPath xlink:href=\"#arrow-e7e79ccdb1044e599609ad46b2f0e5c3-0-6\" class=\"displacy-label\" startOffset=\"50%\" side=\"left\" fill=\"currentColor\" text-anchor=\"middle\">pobj</textPath>\n",
       "    </text>\n",
       "    <path class=\"displacy-arrowhead\" d=\"M1095.0,266.5 L1103.0,254.5 1087.0,254.5\" fill=\"currentColor\"/>\n",
       "</g>\n",
       "\n",
       "<g class=\"displacy-arrow\">\n",
       "    <path class=\"displacy-arc\" id=\"arrow-e7e79ccdb1044e599609ad46b2f0e5c3-0-7\" stroke-width=\"2px\" d=\"M1295,264.5 C1295,177.0 1440.0,177.0 1440.0,264.5\" fill=\"none\" stroke=\"currentColor\"/>\n",
       "    <text dy=\"1.25em\" style=\"font-size: 0.8em; letter-spacing: 1px\">\n",
       "        <textPath xlink:href=\"#arrow-e7e79ccdb1044e599609ad46b2f0e5c3-0-7\" class=\"displacy-label\" startOffset=\"50%\" side=\"left\" fill=\"currentColor\" text-anchor=\"middle\">prep</textPath>\n",
       "    </text>\n",
       "    <path class=\"displacy-arrowhead\" d=\"M1440.0,266.5 L1448.0,254.5 1432.0,254.5\" fill=\"currentColor\"/>\n",
       "</g>\n",
       "\n",
       "<g class=\"displacy-arrow\">\n",
       "    <path class=\"displacy-arc\" id=\"arrow-e7e79ccdb1044e599609ad46b2f0e5c3-0-8\" stroke-width=\"2px\" d=\"M1470,264.5 C1470,177.0 1615.0,177.0 1615.0,264.5\" fill=\"none\" stroke=\"currentColor\"/>\n",
       "    <text dy=\"1.25em\" style=\"font-size: 0.8em; letter-spacing: 1px\">\n",
       "        <textPath xlink:href=\"#arrow-e7e79ccdb1044e599609ad46b2f0e5c3-0-8\" class=\"displacy-label\" startOffset=\"50%\" side=\"left\" fill=\"currentColor\" text-anchor=\"middle\">prep</textPath>\n",
       "    </text>\n",
       "    <path class=\"displacy-arrowhead\" d=\"M1615.0,266.5 L1623.0,254.5 1607.0,254.5\" fill=\"currentColor\"/>\n",
       "</g>\n",
       "\n",
       "<g class=\"displacy-arrow\">\n",
       "    <path class=\"displacy-arc\" id=\"arrow-e7e79ccdb1044e599609ad46b2f0e5c3-0-9\" stroke-width=\"2px\" d=\"M1645,264.5 C1645,177.0 1790.0,177.0 1790.0,264.5\" fill=\"none\" stroke=\"currentColor\"/>\n",
       "    <text dy=\"1.25em\" style=\"font-size: 0.8em; letter-spacing: 1px\">\n",
       "        <textPath xlink:href=\"#arrow-e7e79ccdb1044e599609ad46b2f0e5c3-0-9\" class=\"displacy-label\" startOffset=\"50%\" side=\"left\" fill=\"currentColor\" text-anchor=\"middle\">pobj</textPath>\n",
       "    </text>\n",
       "    <path class=\"displacy-arrowhead\" d=\"M1790.0,266.5 L1798.0,254.5 1782.0,254.5\" fill=\"currentColor\"/>\n",
       "</g>\n",
       "</svg>\n",
       "</figure>\n",
       "</body>\n",
       "</html></span>"
      ],
      "text/plain": [
       "<IPython.core.display.HTML object>"
      ]
     },
     "metadata": {},
     "output_type": "display_data"
    },
    {
     "name": "stdout",
     "output_type": "stream",
     "text": [
      "\n",
      "Using the 'dep' visualizer\n",
      "Serving on http://0.0.0.0:5001 ...\n",
      "\n"
     ]
    }
   ],
   "source": [
    "doc = nlp(\"The chef who ran to the stores is out of food.\")\n",
    "displacy.serve(doc, style=\"dep\", auto_select_port=True)"
   ]
  },
  {
   "cell_type": "code",
   "execution_count": 16,
   "id": "b29a7f92-6366-4427-9978-45e0fcf50ea9",
   "metadata": {},
   "outputs": [
    {
     "data": {
      "text/html": [
       "<span class=\"tex2jax_ignore\"><!DOCTYPE html>\n",
       "<html lang=\"en\">\n",
       "    <head>\n",
       "        <title>displaCy</title>\n",
       "    </head>\n",
       "\n",
       "    <body style=\"font-size: 16px; font-family: -apple-system, BlinkMacSystemFont, 'Segoe UI', Helvetica, Arial, sans-serif, 'Apple Color Emoji', 'Segoe UI Emoji', 'Segoe UI Symbol'; padding: 4rem 2rem; direction: ltr\">\n",
       "<figure style=\"margin-bottom: 6rem\">\n",
       "<svg xmlns=\"http://www.w3.org/2000/svg\" xmlns:xlink=\"http://www.w3.org/1999/xlink\" xml:lang=\"en\" id=\"eb186d413f74495e926bd1b0f9b3a6f9-0\" class=\"displacy\" width=\"2150\" height=\"312.0\" direction=\"ltr\" style=\"max-width: none; height: 312.0px; color: #000000; background: #ffffff; font-family: Arial; direction: ltr\">\n",
       "<text class=\"displacy-token\" fill=\"currentColor\" text-anchor=\"middle\" y=\"222.0\">\n",
       "    <tspan class=\"displacy-word\" fill=\"currentColor\" x=\"50\">The</tspan>\n",
       "    <tspan class=\"displacy-tag\" dy=\"2em\" fill=\"currentColor\" x=\"50\">DET</tspan>\n",
       "</text>\n",
       "\n",
       "<text class=\"displacy-token\" fill=\"currentColor\" text-anchor=\"middle\" y=\"222.0\">\n",
       "    <tspan class=\"displacy-word\" fill=\"currentColor\" x=\"225\">Eritrean</tspan>\n",
       "    <tspan class=\"displacy-tag\" dy=\"2em\" fill=\"currentColor\" x=\"225\">ADJ</tspan>\n",
       "</text>\n",
       "\n",
       "<text class=\"displacy-token\" fill=\"currentColor\" text-anchor=\"middle\" y=\"222.0\">\n",
       "    <tspan class=\"displacy-word\" fill=\"currentColor\" x=\"400\">rubric</tspan>\n",
       "    <tspan class=\"displacy-tag\" dy=\"2em\" fill=\"currentColor\" x=\"400\">NOUN</tspan>\n",
       "</text>\n",
       "\n",
       "<text class=\"displacy-token\" fill=\"currentColor\" text-anchor=\"middle\" y=\"222.0\">\n",
       "    <tspan class=\"displacy-word\" fill=\"currentColor\" x=\"575\">was</tspan>\n",
       "    <tspan class=\"displacy-tag\" dy=\"2em\" fill=\"currentColor\" x=\"575\">AUX</tspan>\n",
       "</text>\n",
       "\n",
       "<text class=\"displacy-token\" fill=\"currentColor\" text-anchor=\"middle\" y=\"222.0\">\n",
       "    <tspan class=\"displacy-word\" fill=\"currentColor\" x=\"750\">indicated</tspan>\n",
       "    <tspan class=\"displacy-tag\" dy=\"2em\" fill=\"currentColor\" x=\"750\">VERB</tspan>\n",
       "</text>\n",
       "\n",
       "<text class=\"displacy-token\" fill=\"currentColor\" text-anchor=\"middle\" y=\"222.0\">\n",
       "    <tspan class=\"displacy-word\" fill=\"currentColor\" x=\"925\">to</tspan>\n",
       "    <tspan class=\"displacy-tag\" dy=\"2em\" fill=\"currentColor\" x=\"925\">PART</tspan>\n",
       "</text>\n",
       "\n",
       "<text class=\"displacy-token\" fill=\"currentColor\" text-anchor=\"middle\" y=\"222.0\">\n",
       "    <tspan class=\"displacy-word\" fill=\"currentColor\" x=\"1100\">match</tspan>\n",
       "    <tspan class=\"displacy-tag\" dy=\"2em\" fill=\"currentColor\" x=\"1100\">VERB</tspan>\n",
       "</text>\n",
       "\n",
       "<text class=\"displacy-token\" fill=\"currentColor\" text-anchor=\"middle\" y=\"222.0\">\n",
       "    <tspan class=\"displacy-word\" fill=\"currentColor\" x=\"1275\">buying</tspan>\n",
       "    <tspan class=\"displacy-tag\" dy=\"2em\" fill=\"currentColor\" x=\"1275\">VERB</tspan>\n",
       "</text>\n",
       "\n",
       "<text class=\"displacy-token\" fill=\"currentColor\" text-anchor=\"middle\" y=\"222.0\">\n",
       "    <tspan class=\"displacy-word\" fill=\"currentColor\" x=\"1450\">inactivation</tspan>\n",
       "    <tspan class=\"displacy-tag\" dy=\"2em\" fill=\"currentColor\" x=\"1450\">NOUN</tspan>\n",
       "</text>\n",
       "\n",
       "<text class=\"displacy-token\" fill=\"currentColor\" text-anchor=\"middle\" y=\"222.0\">\n",
       "    <tspan class=\"displacy-word\" fill=\"currentColor\" x=\"1625\">for</tspan>\n",
       "    <tspan class=\"displacy-tag\" dy=\"2em\" fill=\"currentColor\" x=\"1625\">ADP</tspan>\n",
       "</text>\n",
       "\n",
       "<text class=\"displacy-token\" fill=\"currentColor\" text-anchor=\"middle\" y=\"222.0\">\n",
       "    <tspan class=\"displacy-word\" fill=\"currentColor\" x=\"1800\">skin</tspan>\n",
       "    <tspan class=\"displacy-tag\" dy=\"2em\" fill=\"currentColor\" x=\"1800\">NOUN</tspan>\n",
       "</text>\n",
       "\n",
       "<text class=\"displacy-token\" fill=\"currentColor\" text-anchor=\"middle\" y=\"222.0\">\n",
       "    <tspan class=\"displacy-word\" fill=\"currentColor\" x=\"1975\">beasts.</tspan>\n",
       "    <tspan class=\"displacy-tag\" dy=\"2em\" fill=\"currentColor\" x=\"1975\">NOUN</tspan>\n",
       "</text>\n",
       "\n",
       "<g class=\"displacy-arrow\">\n",
       "    <path class=\"displacy-arc\" id=\"arrow-eb186d413f74495e926bd1b0f9b3a6f9-0-0\" stroke-width=\"2px\" d=\"M70,177.0 C70,2.0 400.0,2.0 400.0,177.0\" fill=\"none\" stroke=\"currentColor\"/>\n",
       "    <text dy=\"1.25em\" style=\"font-size: 0.8em; letter-spacing: 1px\">\n",
       "        <textPath xlink:href=\"#arrow-eb186d413f74495e926bd1b0f9b3a6f9-0-0\" class=\"displacy-label\" startOffset=\"50%\" side=\"left\" fill=\"currentColor\" text-anchor=\"middle\">det</textPath>\n",
       "    </text>\n",
       "    <path class=\"displacy-arrowhead\" d=\"M70,179.0 L62,167.0 78,167.0\" fill=\"currentColor\"/>\n",
       "</g>\n",
       "\n",
       "<g class=\"displacy-arrow\">\n",
       "    <path class=\"displacy-arc\" id=\"arrow-eb186d413f74495e926bd1b0f9b3a6f9-0-1\" stroke-width=\"2px\" d=\"M245,177.0 C245,89.5 395.0,89.5 395.0,177.0\" fill=\"none\" stroke=\"currentColor\"/>\n",
       "    <text dy=\"1.25em\" style=\"font-size: 0.8em; letter-spacing: 1px\">\n",
       "        <textPath xlink:href=\"#arrow-eb186d413f74495e926bd1b0f9b3a6f9-0-1\" class=\"displacy-label\" startOffset=\"50%\" side=\"left\" fill=\"currentColor\" text-anchor=\"middle\">amod</textPath>\n",
       "    </text>\n",
       "    <path class=\"displacy-arrowhead\" d=\"M245,179.0 L237,167.0 253,167.0\" fill=\"currentColor\"/>\n",
       "</g>\n",
       "\n",
       "<g class=\"displacy-arrow\">\n",
       "    <path class=\"displacy-arc\" id=\"arrow-eb186d413f74495e926bd1b0f9b3a6f9-0-2\" stroke-width=\"2px\" d=\"M420,177.0 C420,2.0 750.0,2.0 750.0,177.0\" fill=\"none\" stroke=\"currentColor\"/>\n",
       "    <text dy=\"1.25em\" style=\"font-size: 0.8em; letter-spacing: 1px\">\n",
       "        <textPath xlink:href=\"#arrow-eb186d413f74495e926bd1b0f9b3a6f9-0-2\" class=\"displacy-label\" startOffset=\"50%\" side=\"left\" fill=\"currentColor\" text-anchor=\"middle\">nsubjpass</textPath>\n",
       "    </text>\n",
       "    <path class=\"displacy-arrowhead\" d=\"M420,179.0 L412,167.0 428,167.0\" fill=\"currentColor\"/>\n",
       "</g>\n",
       "\n",
       "<g class=\"displacy-arrow\">\n",
       "    <path class=\"displacy-arc\" id=\"arrow-eb186d413f74495e926bd1b0f9b3a6f9-0-3\" stroke-width=\"2px\" d=\"M595,177.0 C595,89.5 745.0,89.5 745.0,177.0\" fill=\"none\" stroke=\"currentColor\"/>\n",
       "    <text dy=\"1.25em\" style=\"font-size: 0.8em; letter-spacing: 1px\">\n",
       "        <textPath xlink:href=\"#arrow-eb186d413f74495e926bd1b0f9b3a6f9-0-3\" class=\"displacy-label\" startOffset=\"50%\" side=\"left\" fill=\"currentColor\" text-anchor=\"middle\">auxpass</textPath>\n",
       "    </text>\n",
       "    <path class=\"displacy-arrowhead\" d=\"M595,179.0 L587,167.0 603,167.0\" fill=\"currentColor\"/>\n",
       "</g>\n",
       "\n",
       "<g class=\"displacy-arrow\">\n",
       "    <path class=\"displacy-arc\" id=\"arrow-eb186d413f74495e926bd1b0f9b3a6f9-0-4\" stroke-width=\"2px\" d=\"M945,177.0 C945,89.5 1095.0,89.5 1095.0,177.0\" fill=\"none\" stroke=\"currentColor\"/>\n",
       "    <text dy=\"1.25em\" style=\"font-size: 0.8em; letter-spacing: 1px\">\n",
       "        <textPath xlink:href=\"#arrow-eb186d413f74495e926bd1b0f9b3a6f9-0-4\" class=\"displacy-label\" startOffset=\"50%\" side=\"left\" fill=\"currentColor\" text-anchor=\"middle\">aux</textPath>\n",
       "    </text>\n",
       "    <path class=\"displacy-arrowhead\" d=\"M945,179.0 L937,167.0 953,167.0\" fill=\"currentColor\"/>\n",
       "</g>\n",
       "\n",
       "<g class=\"displacy-arrow\">\n",
       "    <path class=\"displacy-arc\" id=\"arrow-eb186d413f74495e926bd1b0f9b3a6f9-0-5\" stroke-width=\"2px\" d=\"M770,177.0 C770,2.0 1100.0,2.0 1100.0,177.0\" fill=\"none\" stroke=\"currentColor\"/>\n",
       "    <text dy=\"1.25em\" style=\"font-size: 0.8em; letter-spacing: 1px\">\n",
       "        <textPath xlink:href=\"#arrow-eb186d413f74495e926bd1b0f9b3a6f9-0-5\" class=\"displacy-label\" startOffset=\"50%\" side=\"left\" fill=\"currentColor\" text-anchor=\"middle\">xcomp</textPath>\n",
       "    </text>\n",
       "    <path class=\"displacy-arrowhead\" d=\"M1100.0,179.0 L1108.0,167.0 1092.0,167.0\" fill=\"currentColor\"/>\n",
       "</g>\n",
       "\n",
       "<g class=\"displacy-arrow\">\n",
       "    <path class=\"displacy-arc\" id=\"arrow-eb186d413f74495e926bd1b0f9b3a6f9-0-6\" stroke-width=\"2px\" d=\"M1120,177.0 C1120,89.5 1270.0,89.5 1270.0,177.0\" fill=\"none\" stroke=\"currentColor\"/>\n",
       "    <text dy=\"1.25em\" style=\"font-size: 0.8em; letter-spacing: 1px\">\n",
       "        <textPath xlink:href=\"#arrow-eb186d413f74495e926bd1b0f9b3a6f9-0-6\" class=\"displacy-label\" startOffset=\"50%\" side=\"left\" fill=\"currentColor\" text-anchor=\"middle\">xcomp</textPath>\n",
       "    </text>\n",
       "    <path class=\"displacy-arrowhead\" d=\"M1270.0,179.0 L1278.0,167.0 1262.0,167.0\" fill=\"currentColor\"/>\n",
       "</g>\n",
       "\n",
       "<g class=\"displacy-arrow\">\n",
       "    <path class=\"displacy-arc\" id=\"arrow-eb186d413f74495e926bd1b0f9b3a6f9-0-7\" stroke-width=\"2px\" d=\"M1295,177.0 C1295,89.5 1445.0,89.5 1445.0,177.0\" fill=\"none\" stroke=\"currentColor\"/>\n",
       "    <text dy=\"1.25em\" style=\"font-size: 0.8em; letter-spacing: 1px\">\n",
       "        <textPath xlink:href=\"#arrow-eb186d413f74495e926bd1b0f9b3a6f9-0-7\" class=\"displacy-label\" startOffset=\"50%\" side=\"left\" fill=\"currentColor\" text-anchor=\"middle\">dobj</textPath>\n",
       "    </text>\n",
       "    <path class=\"displacy-arrowhead\" d=\"M1445.0,179.0 L1453.0,167.0 1437.0,167.0\" fill=\"currentColor\"/>\n",
       "</g>\n",
       "\n",
       "<g class=\"displacy-arrow\">\n",
       "    <path class=\"displacy-arc\" id=\"arrow-eb186d413f74495e926bd1b0f9b3a6f9-0-8\" stroke-width=\"2px\" d=\"M1470,177.0 C1470,89.5 1620.0,89.5 1620.0,177.0\" fill=\"none\" stroke=\"currentColor\"/>\n",
       "    <text dy=\"1.25em\" style=\"font-size: 0.8em; letter-spacing: 1px\">\n",
       "        <textPath xlink:href=\"#arrow-eb186d413f74495e926bd1b0f9b3a6f9-0-8\" class=\"displacy-label\" startOffset=\"50%\" side=\"left\" fill=\"currentColor\" text-anchor=\"middle\">prep</textPath>\n",
       "    </text>\n",
       "    <path class=\"displacy-arrowhead\" d=\"M1620.0,179.0 L1628.0,167.0 1612.0,167.0\" fill=\"currentColor\"/>\n",
       "</g>\n",
       "\n",
       "<g class=\"displacy-arrow\">\n",
       "    <path class=\"displacy-arc\" id=\"arrow-eb186d413f74495e926bd1b0f9b3a6f9-0-9\" stroke-width=\"2px\" d=\"M1820,177.0 C1820,89.5 1970.0,89.5 1970.0,177.0\" fill=\"none\" stroke=\"currentColor\"/>\n",
       "    <text dy=\"1.25em\" style=\"font-size: 0.8em; letter-spacing: 1px\">\n",
       "        <textPath xlink:href=\"#arrow-eb186d413f74495e926bd1b0f9b3a6f9-0-9\" class=\"displacy-label\" startOffset=\"50%\" side=\"left\" fill=\"currentColor\" text-anchor=\"middle\">compound</textPath>\n",
       "    </text>\n",
       "    <path class=\"displacy-arrowhead\" d=\"M1820,179.0 L1812,167.0 1828,167.0\" fill=\"currentColor\"/>\n",
       "</g>\n",
       "\n",
       "<g class=\"displacy-arrow\">\n",
       "    <path class=\"displacy-arc\" id=\"arrow-eb186d413f74495e926bd1b0f9b3a6f9-0-10\" stroke-width=\"2px\" d=\"M1645,177.0 C1645,2.0 1975.0,2.0 1975.0,177.0\" fill=\"none\" stroke=\"currentColor\"/>\n",
       "    <text dy=\"1.25em\" style=\"font-size: 0.8em; letter-spacing: 1px\">\n",
       "        <textPath xlink:href=\"#arrow-eb186d413f74495e926bd1b0f9b3a6f9-0-10\" class=\"displacy-label\" startOffset=\"50%\" side=\"left\" fill=\"currentColor\" text-anchor=\"middle\">pobj</textPath>\n",
       "    </text>\n",
       "    <path class=\"displacy-arrowhead\" d=\"M1975.0,179.0 L1983.0,167.0 1967.0,167.0\" fill=\"currentColor\"/>\n",
       "</g>\n",
       "</svg>\n",
       "</figure>\n",
       "</body>\n",
       "</html></span>"
      ],
      "text/plain": [
       "<IPython.core.display.HTML object>"
      ]
     },
     "metadata": {},
     "output_type": "display_data"
    },
    {
     "name": "stdout",
     "output_type": "stream",
     "text": [
      "\n",
      "Using the 'dep' visualizer\n",
      "Serving on http://0.0.0.0:5001 ...\n",
      "\n",
      "Shutting down server on port 5001.\n"
     ]
    }
   ],
   "source": [
    "doc = nlp(\"The Eritrean rubric was indicated to match buying inactivation for skin beasts.\")\n",
    "displacy.serve(doc, style=\"dep\", auto_select_port=True)"
   ]
  }
 ],
 "metadata": {
  "kernelspec": {
   "display_name": "Python 3 (ipykernel)",
   "language": "python",
   "name": "python3"
  },
  "language_info": {
   "codemirror_mode": {
    "name": "ipython",
    "version": 3
   },
   "file_extension": ".py",
   "mimetype": "text/x-python",
   "name": "python",
   "nbconvert_exporter": "python",
   "pygments_lexer": "ipython3",
   "version": "3.12.0"
  }
 },
 "nbformat": 4,
 "nbformat_minor": 5
}
