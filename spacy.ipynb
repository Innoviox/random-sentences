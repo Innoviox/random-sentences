{
 "cells": [
  {
   "cell_type": "code",
   "execution_count": 1,
   "id": "1c4f19e9-44c6-455e-9d57-81dbb06524dd",
   "metadata": {},
   "outputs": [],
   "source": [
    "import spacy\n",
    "import csv\n",
    "from spacy import displacy"
   ]
  },
  {
   "cell_type": "code",
   "execution_count": 2,
   "id": "8579f887-3bd6-49a7-a6a8-902687c9f948",
   "metadata": {},
   "outputs": [],
   "source": [
    "nlp = spacy.load(\"en_core_web_lg\")"
   ]
  },
  {
   "cell_type": "code",
   "execution_count": 11,
   "id": "ff465a28-c568-41b2-bfe9-45e54633a757",
   "metadata": {},
   "outputs": [
    {
     "name": "stderr",
     "output_type": "stream",
     "text": [
      "100%|████████████████████████████████████| 10000/10000 [00:48<00:00, 205.25it/s]"
     ]
    },
    {
     "name": "stdout",
     "output_type": "stream",
     "text": [
      "0.8478797361180124 4476 1381 942\n"
     ]
    },
    {
     "name": "stderr",
     "output_type": "stream",
     "text": [
      "\n"
     ]
    }
   ],
   "source": [
    "import statistics\n",
    "import collections\n",
    "import tqdm\n",
    "all_uuas = []\n",
    "matches = collections.defaultdict(lambda: [0, 0])\n",
    "\n",
    "writer_100 = csv.DictWriter(open(f\"devset_new/uuas_1.csv\", \"w\"), fieldnames=['Sentence ID', 'Original Sentence', 'New Sentence'])\n",
    "writer_100.writeheader()\n",
    "\n",
    "writer_95 = csv.DictWriter(open(f\"devset_new/uuas_95.csv\", \"w\"), fieldnames=['Sentence ID', 'Original Sentence', 'New Sentence'])\n",
    "writer_95.writeheader()\n",
    "\n",
    "writer_l90 = csv.DictWriter(open(f\"devset_new/uuas_l90.csv\", \"w\"), fieldnames=['Sentence ID', 'Original Sentence', 'New Sentence'])\n",
    "writer_l90.writeheader()\n",
    "\n",
    "# for i in tqdm.trange(20):\n",
    "with open(f'prodset_clean.csv') as csvfile:\n",
    "    reader = csv.DictReader(csvfile)\n",
    "    for row in tqdm.tqdm(reader, total=10000):\n",
    "        orig = row['Original Sentence']\n",
    "        new = row['New Sentence']\n",
    "        \n",
    "        doc1 = nlp(orig)\n",
    "        doc2 = nlp(new)\n",
    "\n",
    "\n",
    "        a = [i.head.i for i in doc1[:-1]]\n",
    "        b = [i.head.i for i in doc2[:-1]]\n",
    "        if len(a) != len(b):\n",
    "            continue\n",
    "\n",
    "        \n",
    "        uuas = sum(1 for i in range(len(a)) if a[i] == b[i]) / len(a)\n",
    "\n",
    "        for idx, (i, j) in enumerate(zip(doc1[:-1], doc2[:-1])):\n",
    "            if a[idx] == b[idx] and i.dep_ == j.dep_:\n",
    "                matches[i.dep_][0] += 1\n",
    "            matches[i.dep_][1] += 1\n",
    "\n",
    "        if uuas == 1:\n",
    "            writer_100.writerow(row)\n",
    "        elif 0.5 <= uuas and uuas < 1:\n",
    "            writer_95.writerow(row)\n",
    "        if uuas < 0.9:\n",
    "            writer_l90.writerow(row)\n",
    "\n",
    "        all_uuas.append(uuas)\n",
    "\n",
    "print(statistics.mean(all_uuas), len(all_uuas), sum(1 for i in all_uuas if i == 1), sum(1 for i in all_uuas if 0.90 <= i and i < 1))"
   ]
  },
  {
   "cell_type": "code",
   "execution_count": 5,
   "id": "b3f3b075-858a-4ea7-8187-391ae1ad2bdb",
   "metadata": {},
   "outputs": [
    {
     "name": "stdout",
     "output_type": "stream",
     "text": [
      "pobj      : 86.75% (72/83)\n",
      "prep      : 72.41% (63/87)\n",
      "det       : 91.03% (71/78)\n",
      "nsubj     : 87.84% (65/74)\n",
      "compound  : 86.44% (51/59)\n",
      "punct     : 66.67% (38/57)\n",
      "ROOT      : 84.0% (42/50)\n",
      "aux       : 92.11% (35/38)\n",
      "advmod    : 71.79% (28/39)\n",
      "dobj      : 65.0% (26/40)\n",
      "amod      : 64.52% (20/31)\n",
      "cc        : 62.5% (15/24)\n",
      "nummod    : 94.44% (17/18)\n",
      "conj      : 61.9% (13/21)\n",
      "ccomp     : 76.47% (13/17)\n",
      "poss      : 87.5% (14/16)\n",
      "npadvmod  : 50.0% (9/18)\n",
      "mark      : 100.0% (11/11)\n",
      "case      : 90.91% (10/11)\n",
      "nmod      : 58.33% (7/12)\n",
      "advcl     : 60.0% (6/10)\n",
      "attr      : 20.0% (2/10)\n",
      "auxpass   : 71.43% (5/7)\n",
      "nsubjpass : 83.33% (5/6)\n",
      "neg       : 66.67% (4/6)\n",
      "xcomp     : 66.67% (4/6)\n",
      "acl       : 33.33% (2/6)\n",
      "relcl     : 60.0% (3/5)\n",
      "quantmod  : 75.0% (3/4)\n",
      "pcomp     : 66.67% (2/3)\n",
      "acomp     : 66.67% (2/3)\n",
      "agent     : 100.0% (2/2)\n",
      "appos     : 100.0% (2/2)\n",
      "dative    : 0.0% (0/2)\n",
      "expl      : 0.0% (0/1)\n",
      "intj      : 0.0% (0/1)\n",
      "parataxis : 0.0% (0/1)\n",
      "prt       : 0.0% (0/1)\n"
     ]
    }
   ],
   "source": [
    "for k, v in sorted(matches.items(), key = lambda a: -(a[1][0] + a[1][1])):\n",
    "    print(f\"{k.ljust(10)}: {round(v[0] / v[1] * 100, 2)}% ({v[0]}/{v[1]})\")"
   ]
  },
  {
   "cell_type": "code",
   "execution_count": 24,
   "id": "54349838-df98-4b7f-a2fd-971f0ddf9de1",
   "metadata": {},
   "outputs": [
    {
     "name": "stderr",
     "output_type": "stream",
     "text": [
      " 12%|█████▋                                       | 1/8 [00:00<00:02,  2.98it/s]"
     ]
    },
    {
     "name": "stdout",
     "output_type": "stream",
     "text": [
      "That may soon change. That may fast back.\n"
     ]
    },
    {
     "name": "stderr",
     "output_type": "stream",
     "text": [
      "100%|█████████████████████████████████████████████| 8/8 [00:02<00:00,  3.18it/s]"
     ]
    },
    {
     "name": "stdout",
     "output_type": "stream",
     "text": [
      "+---------+------------+\n",
      "| Bucket  | Proportion |\n",
      "+---------+------------+\n",
      "| 95-100% |   30.95%   |\n",
      "| 90-95%  |   14.88%   |\n",
      "| 85-90%  |   12.5%    |\n",
      "| 80-85%  |   11.31%   |\n",
      "| 75-80%  |   7.74%    |\n",
      "| 70-75%  |   5.95%    |\n",
      "| 65-70%  |   6.55%    |\n",
      "| 60-65%  |   2.98%    |\n",
      "| 55-60%  |    0.6%    |\n",
      "| 50-55%  |   2.38%    |\n",
      "| 45-50%  |    0.6%    |\n",
      "| 40-45%  |    0.0%    |\n",
      "| 35-40%  |    0.0%    |\n",
      "| 30-35%  |   1.79%    |\n",
      "| 25-30%  |    0.6%    |\n",
      "| 20-25%  |    0.6%    |\n",
      "| 15-20%  |    0.0%    |\n",
      "| 10-15%  |    0.0%    |\n",
      "|  5-10%  |    0.0%    |\n",
      "|  0-5%   |    0.0%    |\n",
      "|  -5-0%  |    0.6%    |\n",
      "+---------+------------+\n"
     ]
    },
    {
     "name": "stderr",
     "output_type": "stream",
     "text": [
      "\n"
     ]
    }
   ],
   "source": [
    "from tabulate import tabulate\n",
    "buckets = []\n",
    "\n",
    "for bucket in range(100, -1, -5):\n",
    "    buckets.append(f\"{bucket-5}-{bucket}%\")\n",
    "#     n = sum(1 for i in all_uuas if bucket - 5 <= i * 100 <= bucket)\n",
    "#     uuass.append(f\"{round(n / len(all_uuas) * 100, 2)}%\")\n",
    "\n",
    "#     matches = collections.defaultdict(lambda: [0, 0])\n",
    "#     for idx, (i, j) in enumerate(zip(doc1[:-1], doc2[:-1])):\n",
    "#             if a[idx] == b[idx] and i.dep_ == j.dep_:\n",
    "#                 matches[i.dep_][0] += 1\n",
    "#             matches[i.dep_][1] += 1\n",
    "uuass = [0 for i in buckets]\n",
    "matches = [collections.defaultdict(lambda: [0, 0]) for i in buckets]\n",
    "for i in tqdm.trange(8):\n",
    "    with open(f'devset_new/orig_{i}_claude.csv') as csvfile:\n",
    "        reader = csv.DictReader(csvfile)\n",
    "        \n",
    "        for row in reader:\n",
    "            orig = row['Original Sentence']\n",
    "            new = row['New Sentence']\n",
    "            \n",
    "            doc1 = nlp(orig)\n",
    "            doc2 = nlp(new)\n",
    "    \n",
    "    \n",
    "            a = [i.head.i for i in doc1[:-1]]\n",
    "            b = [i.head.i for i in doc2[:-1]]\n",
    "            if len(a) != len(b):\n",
    "                continue\n",
    "    \n",
    "            \n",
    "            uuas = sum(1 for i in range(len(a)) if a[i] == b[i]) / len(a)\n",
    "            \n",
    "            bucket = int(20 - ((uuas - 0.0001) * 100 // 5) - 1)\n",
    "            # print(uuas, bucket)\n",
    "    \n",
    "            uuass[bucket] += 1\n",
    "\n",
    "            if bucket == 20:\n",
    "                print(orig, new)\n",
    "            \n",
    "            \n",
    "            for idx, (i, j) in enumerate(zip(doc1[:-1], doc2[:-1])):\n",
    "                if a[idx] == b[idx] and i.dep_ == j.dep_:\n",
    "                    matches[bucket][i.dep_][0] += 1\n",
    "                matches[bucket][i.dep_][1] += 1\n",
    "\n",
    "uuass = [f\"{round(i / sum(uuass) * 100, 2)}%\" for i in uuass]\n",
    "print(tabulate(zip(buckets, uuass), tablefmt=\"pretty\", headers=[\"Bucket\", \"Proportion\"]))\n"
   ]
  },
  {
   "cell_type": "code",
   "execution_count": 17,
   "id": "6e992b16-9984-4c68-ad26-ca5938812a46",
   "metadata": {},
   "outputs": [],
   "source": [
    "x = [i.split(\":\")[0].strip() for i in \"\"\"pobj      : 86.75% (72/83)\n",
    "prep      : 72.41% (63/87)\n",
    "det       : 91.03% (71/78)\n",
    "nsubj     : 87.84% (65/74)\n",
    "compound  : 86.44% (51/59)\n",
    "punct     : 66.67% (38/57)\n",
    "ROOT      : 84.0% (42/50)\n",
    "aux       : 92.11% (35/38)\n",
    "advmod    : 71.79% (28/39)\n",
    "dobj      : 65.0% (26/40)\n",
    "amod      : 64.52% (20/31)\n",
    "cc        : 62.5% (15/24)\n",
    "nummod    : 94.44% (17/18)\n",
    "conj      : 61.9% (13/21)\n",
    "ccomp     : 76.47% (13/17)\n",
    "poss      : 87.5% (14/16)\n",
    "npadvmod  : 50.0% (9/18)\n",
    "mark      : 100.0% (11/11)\n",
    "case      : 90.91% (10/11)\n",
    "nmod      : 58.33% (7/12)\n",
    "advcl     : 60.0% (6/10)\n",
    "attr      : 20.0% (2/10)\n",
    "auxpass   : 71.43% (5/7)\n",
    "nsubjpass : 83.33% (5/6)\n",
    "neg       : 66.67% (4/6)\n",
    "xcomp     : 66.67% (4/6)\n",
    "acl       : 33.33% (2/6)\n",
    "relcl     : 60.0% (3/5)\n",
    "quantmod  : 75.0% (3/4)\n",
    "pcomp     : 66.67% (2/3)\n",
    "acomp     : 66.67% (2/3)\n",
    "agent     : 100.0% (2/2)\n",
    "appos     : 100.0% (2/2)\n",
    "dative    : 0.0% (0/2)\n",
    "expl      : 0.0% (0/1)\n",
    "intj      : 0.0% (0/1)\n",
    "parataxis : 0.0% (0/1)\n",
    "prt       : 0.0% (0/1)\"\"\".split(\"\\n\")]"
   ]
  },
  {
   "cell_type": "code",
   "execution_count": 18,
   "id": "6e9a7245-b04d-49f2-b5d2-87e8b79b97de",
   "metadata": {},
   "outputs": [],
   "source": [
    "deps = collections.defaultdict(lambda: [0 for i in buckets])\n",
    "for i, m in enumerate(matches):\n",
    "    for k, v in m.items():\n",
    "        deps[k][i] = f\"{round(v[0] / v[1] * 100, 2)}%\""
   ]
  },
  {
   "cell_type": "code",
   "execution_count": 20,
   "id": "4307d402-8b5b-488a-9aa6-45cde31dfd65",
   "metadata": {},
   "outputs": [
    {
     "name": "stdout",
     "output_type": "stream",
     "text": [
      "+---------+------------+--------+--------+--------+--------+--------+--------+----------+--------+--------+--------+\n",
      "| Bucket  | Proportion | nsubj  |  prep  |  det   |  pobj  |  aux   |  ROOT  | npadvmod | advmod |  poss  |  case  |\n",
      "+---------+------------+--------+--------+--------+--------+--------+--------+----------+--------+--------+--------+\n",
      "| 95-100% |   32.56%   | 98.04% | 96.36% | 98.21% | 98.08% | 97.3%  | 100.0% |  54.55%  | 94.74% | 100.0% | 100.0% |\n",
      "| 90-95%  |   14.73%   | 94.59% | 83.78% | 100.0% | 97.06% | 95.0%  | 100.0% |  42.86%  | 75.0%  | 100.0% | 100.0% |\n",
      "| 85-90%  |   11.63%   | 100.0% | 84.0%  | 100.0% | 96.3%  | 100.0% | 100.0% |  75.0%   | 57.14% | 80.0%  | 100.0% |\n",
      "| 80-85%  |    9.3%    | 86.36% | 80.0%  | 100.0% | 86.21% | 100.0% | 83.33% |  27.27%  | 83.33% | 100.0% | 100.0% |\n",
      "| 75-80%  |   7.75%    | 87.5%  | 81.48% | 87.5%  | 86.36% | 57.14% | 100.0% |  14.29%  | 66.67% | 100.0% | 100.0% |\n",
      "| 70-75%  |    3.1%    | 50.0%  | 66.67% | 100.0% | 100.0% | 50.0%  | 50.0%  |  33.33%  | 40.0%  | 100.0% | 100.0% |\n",
      "| 65-70%  |   7.75%    | 56.25% | 66.67% | 94.44% | 83.33% | 90.0%  | 50.0%  |   0.0%   | 20.0%  | 100.0% |   0    |\n",
      "| 60-65%  |   3.88%    | 83.33% | 75.0%  | 87.5%  | 80.0%  | 25.0%  | 100.0% |    0     | 33.33% | 100.0% |   0    |\n",
      "| 55-60%  |   0.78%    |   0    | 100.0% | 100.0% | 100.0% |   0    |  0.0%  |    0     |   0    |   0    |   0    |\n",
      "| 50-55%  |    3.1%    | 100.0% | 78.57% | 62.5%  | 66.67% | 50.0%  | 25.0%  |   0.0%   | 25.0%  | 66.67% | 100.0% |\n",
      "| 45-50%  |   0.78%    |  0.0%  |   0    |  0.0%  |   0    |   0    | 100.0% |    0     |   0    |   0    |   0    |\n",
      "| 40-45%  |    0.0%    |   0    |   0    |   0    |   0    |   0    |   0    |    0     |   0    |   0    |   0    |\n",
      "| 35-40%  |    0.0%    |   0    |   0    |   0    |   0    |   0    |   0    |    0     |   0    |   0    |   0    |\n",
      "| 30-35%  |   2.33%    |  0.0%  | 20.0%  | 20.0%  | 42.86% | 100.0% | 66.67% |    0     | 33.33% |  0.0%  |   0    |\n",
      "| 25-30%  |   0.78%    |  0.0%  |  0.0%  |   0    |  0.0%  |  0.0%  |  0.0%  |    0     |  0.0%  |   0    |   0    |\n",
      "| 20-25%  |   0.78%    |   0    | 50.0%  | 50.0%  | 50.0%  |   0    |  0.0%  |    0     | 33.33% |  0.0%  |   0    |\n",
      "| 15-20%  |    0.0%    |   0    |   0    |   0    |   0    |   0    |   0    |    0     |   0    |   0    |   0    |\n",
      "| 10-15%  |    0.0%    |   0    |   0    |   0    |   0    |   0    |   0    |    0     |   0    |   0    |   0    |\n",
      "|  5-10%  |    0.0%    |   0    |   0    |   0    |   0    |   0    |   0    |    0     |   0    |   0    |   0    |\n",
      "|  0-5%   |    0.0%    |   0    |   0    |   0    |   0    |   0    |   0    |    0     |   0    |   0    |   0    |\n",
      "|  -5-0%  |   0.78%    |  0.0%  |   0    |   0    |   0    |  0.0%  |  0.0%  |    0     |  0.0%  |   0    |   0    |\n",
      "+---------+------------+--------+--------+--------+--------+--------+--------+----------+--------+--------+--------+\n"
     ]
    }
   ],
   "source": [
    "# o = [list(deps.keys()).index(i) for i in x]\n",
    "v = list(deps.values())[:10]#[list(deps.values())[i] for i in o][:10]\n",
    "k = list(deps.keys())[:10]#[list(deps.keys())[i] for i in o][:10]\n",
    "\n",
    "print(tabulate(zip(buckets, uuass, *v), tablefmt=\"pretty\", headers=[\"Bucket\", \"Proportion\"] + k))"
   ]
  }
 ],
 "metadata": {
  "kernelspec": {
   "display_name": "Python 3 (ipykernel)",
   "language": "python",
   "name": "python3"
  },
  "language_info": {
   "codemirror_mode": {
    "name": "ipython",
    "version": 3
   },
   "file_extension": ".py",
   "mimetype": "text/x-python",
   "name": "python",
   "nbconvert_exporter": "python",
   "pygments_lexer": "ipython3",
   "version": "3.12.0"
  }
 },
 "nbformat": 4,
 "nbformat_minor": 5
}
