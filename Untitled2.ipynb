{
 "cells": [
  {
   "cell_type": "code",
   "execution_count": 1,
   "id": "63149382-fe04-4d42-b28d-f3fe1fd3c996",
   "metadata": {},
   "outputs": [],
   "source": [
    "import json\n",
    "default_survey = json.load(open(\"default_survey.qsf\"))\n",
    "default_question = default_survey['SurveyElements'][-1]\n",
    "default_survey['SurveyElements'] = default_survey['SurveyElements'][:-1]\n",
    "default_block = default_survey['SurveyElements'][0]['Payload'][0]\n",
    "default_survey['SurveyElements'][0]['Payload'] = [default_survey['SurveyElements'][0]['Payload'][-1]]"
   ]
  },
  {
   "cell_type": "code",
   "execution_count": 2,
   "id": "7ea957a0-a97b-454d-a822-dfd46f8bc657",
   "metadata": {},
   "outputs": [
    {
     "data": {
      "text/plain": [
       "{'SurveyID': 'SV_9QBRV7tM4pj6FAW',\n",
       " 'Element': 'BL',\n",
       " 'PrimaryAttribute': 'Survey Blocks',\n",
       " 'SecondaryAttribute': None,\n",
       " 'TertiaryAttribute': None,\n",
       " 'Payload': [{'Type': 'Standard',\n",
       "   'SubType': '',\n",
       "   'Description': 'Block 1',\n",
       "   'ID': 'BL_cwQ02aCxtqbI6mW',\n",
       "   'BlockElements': [{'Type': 'Question',\n",
       "     'QuestionID': 'QIDIntro',\n",
       "     'SkipLogic': [{'SkipLogicID': 1,\n",
       "       'ChoiceLocator': 'q://QIDIntro/SelectableChoice/2',\n",
       "       'Condition': 'Selected',\n",
       "       'SkipToDestination': 'ENDOFSURVEY',\n",
       "       'Locator': 'q://QIDIntro/SelectableChoice/2',\n",
       "       'SkipToDescription': 'During this study, you will... <strong>No</strong>  <strong>Is Selected</strong>',\n",
       "       'Description': 'Condition: <strong title=\"No\">No</strong> <strong>Is Selected</strong>. Skip To: <strong>End of Survey</strong>.',\n",
       "       'QuestionID': 'QIDIntro'}]}]}]}"
      ]
     },
     "execution_count": 2,
     "metadata": {},
     "output_type": "execute_result"
    }
   ],
   "source": [
    "default_survey['SurveyElements'][0]"
   ]
  },
  {
   "cell_type": "code",
   "execution_count": 3,
   "id": "b0ef902c-58b4-4ccb-99e9-3db1fb0e09a8",
   "metadata": {},
   "outputs": [],
   "source": [
    "def make_question_block(question_id):\n",
    "    block_id = f'BL_{question_id}'\n",
    "    flow_id = f'FL_{question_id}'\n",
    "    \n",
    "    new_block = copy.deepcopy(default_block)\n",
    "    new_block['ID'] = block_id\n",
    "    new_block['Type'] = 'Standard'\n",
    "    new_block['Description'] = block_id\n",
    "    new_block['BlockElements'][0]['QuestionID'] = question_id\n",
    "\n",
    "    default_survey['SurveyElements'][1]['Payload']['Flow'].append({'ID': block_id, 'Type': 'Block', 'FlowID': flow_id})\n",
    "    return new_block\n",
    "\n",
    "def make_question(qid, qtext):\n",
    "    questionId = f'QID{qid}'\n",
    "    questionDescription = qtext.replace(\"<br>\", \" \")[:97] + '...'\n",
    "\n",
    "    new_question = copy.deepcopy(default_question)\n",
    "    new_question['PrimaryAttribute'] = questionId\n",
    "    new_question['SecondaryAttribute'] = questionDescription\n",
    "    new_question['Payload']['QuestionText'] = qtext\n",
    "    new_question['Payload']['DataExportTag'] = f'Q{qid}'\n",
    "    new_question['Payload']['QuestionID'] = questionId\n",
    "    new_question['Payload']['QuestionDescription'] = questionDescription\n",
    "\n",
    "    return new_question"
   ]
  },
  {
   "cell_type": "code",
   "execution_count": 4,
   "id": "23e51228-1cbc-4397-812e-86c7c26292cd",
   "metadata": {},
   "outputs": [],
   "source": [
    "attention_question = r\"These sentences have the same structure:<br><br>For this sentence, ignore what we asked you for and choose 3.<br><br>For this clock, press what we told you for and climb 3.<br>\""
   ]
  },
  {
   "cell_type": "code",
   "execution_count": 5,
   "id": "cb99fc49-0bbf-47c5-afd4-5795bc86b1fb",
   "metadata": {},
   "outputs": [],
   "source": [
    "import csv, copy, random\n",
    "with open(\"devset.csv\") as file:\n",
    "    reader = csv.DictReader(file)\n",
    "    questions = random.choices(list(reader), k=20)\n",
    "    for index, row in enumerate(questions):\n",
    "        qid = index + 1\n",
    "        qtext = fr\"These sentences have the same structure:<br><br>{row['Original Sentence']}<br><br>{row['New Sentence']}<br>\"\n",
    "        new_question = make_question(qid, qtext)\n",
    "        \n",
    "        default_survey['SurveyElements'].append(new_question)\n",
    "        default_survey['SurveyElements'][0]['Payload'].append(make_question_block(f'QID{qid}'))\n",
    "\n",
    "        if index == 9:\n",
    "            new_question = make_question(22, attention_question)\n",
    "            default_survey['SurveyElements'].append(new_question)\n",
    "            default_survey['SurveyElements'][0]['Payload'].append(make_question_block('QID22'))"
   ]
  },
  {
   "cell_type": "code",
   "execution_count": 6,
   "id": "123c799f-b2af-4278-8557-c3e4dd68d743",
   "metadata": {},
   "outputs": [
    {
     "data": {
      "text/plain": [
       "41326"
      ]
     },
     "execution_count": 6,
     "metadata": {},
     "output_type": "execute_result"
    }
   ],
   "source": [
    "open(\"survey.qsf\", \"w\").write(json.dumps(default_survey))"
   ]
  }
 ],
 "metadata": {
  "kernelspec": {
   "display_name": "Python 3 (ipykernel)",
   "language": "python",
   "name": "python3"
  },
  "language_info": {
   "codemirror_mode": {
    "name": "ipython",
    "version": 3
   },
   "file_extension": ".py",
   "mimetype": "text/x-python",
   "name": "python",
   "nbconvert_exporter": "python",
   "pygments_lexer": "ipython3",
   "version": "3.12.0"
  }
 },
 "nbformat": 4,
 "nbformat_minor": 5
}
