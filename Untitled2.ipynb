{
 "cells": [
  {
   "cell_type": "code",
   "execution_count": 54,
   "id": "63149382-fe04-4d42-b28d-f3fe1fd3c996",
   "metadata": {},
   "outputs": [],
   "source": [
    "import json\n",
    "default_survey = json.loads(r\"\"\"{\"SurveyEntry\":{\"SurveyID\":\"SV_43egVSmWXLvDOWa\",\"SurveyName\":\"test\",\"SurveyDescription\":null,\"SurveyOwnerID\":\"UR_6xwvJq0siaEd4p0\",\"SurveyBrandID\":\"umd\",\"DivisionID\":null,\"SurveyLanguage\":\"EN\",\"SurveyActiveResponseSet\":\"RS_071idxFGjtg0e8K\",\"SurveyStatus\":\"Inactive\",\"SurveyStartDate\":\"0000-00-00 00:00:00\",\"SurveyExpirationDate\":\"0000-00-00 00:00:00\",\"SurveyCreationDate\":\"2024-10-08 15:12:24\",\"CreatorID\":\"UR_6xwvJq0siaEd4p0\",\"LastModified\":\"2024-10-08 15:24:53\",\"LastAccessed\":\"0000-00-00 00:00:00\",\"LastActivated\":\"0000-00-00 00:00:00\",\"Deleted\":null},\"SurveyElements\":[{\"SurveyID\":\"SV_43egVSmWXLvDOWa\",\"Element\":\"BL\",\"PrimaryAttribute\":\"Survey Blocks\",\"SecondaryAttribute\":null,\"TertiaryAttribute\":null,\"Payload\":[{\"Type\":\"Default\",\"Description\":\"Default Question Block\",\"ID\":\"BL_5vgSjmlPOEPQwuy\",\"BlockElements\":[{\"Type\":\"Question\",\"QuestionID\":\"QID1\"}]},{\"Type\":\"Trash\",\"Description\":\"Trash \\/ Unused Questions\",\"ID\":\"BL_1zxpZpAS70cypYq\"}]},{\"SurveyID\":\"SV_43egVSmWXLvDOWa\",\"Element\":\"FL\",\"PrimaryAttribute\":\"Survey Flow\",\"SecondaryAttribute\":null,\"TertiaryAttribute\":null,\"Payload\":{\"Flow\":[{\"ID\":\"BL_5vgSjmlPOEPQwuy\",\"Type\":\"Block\",\"FlowID\":\"FL_2\"}],\"Properties\":{\"Count\":2},\"FlowID\":\"FL_1\",\"Type\":\"Root\"}},{\"SurveyID\":\"SV_43egVSmWXLvDOWa\",\"Element\":\"PL\",\"PrimaryAttribute\":\"Preview Link\",\"SecondaryAttribute\":null,\"TertiaryAttribute\":null,\"Payload\":{\"PreviewType\":\"Brand\",\"PreviewID\":\"cc12f0a2-0cb3-46c2-abb7-b8619e46221d\"}},{\"SurveyID\":\"SV_43egVSmWXLvDOWa\",\"Element\":\"SO\",\"PrimaryAttribute\":\"Survey Options\",\"SecondaryAttribute\":null,\"TertiaryAttribute\":null,\"Payload\":{\"BackButton\":\"false\",\"SaveAndContinue\":\"true\",\"SurveyProtection\":\"PublicSurvey\",\"BallotBoxStuffingPrevention\":\"false\",\"NoIndex\":\"Yes\",\"SecureResponseFiles\":\"true\",\"SurveyExpiration\":\"None\",\"SurveyTermination\":\"DefaultMessage\",\"Header\":\"\",\"Footer\":\"\",\"ProgressBarDisplay\":\"None\",\"PartialData\":\"+1 week\",\"ValidationMessage\":\"\",\"PreviousButton\":\"\",\"NextButton\":\"\",\"SurveyTitle\":\"Qualtrics Survey | Qualtrics Experience Management\",\"SkinLibrary\":\"umd\",\"SkinType\":\"templated\",\"Skin\":{\"brandingId\":\"3587758998\",\"templateId\":\"*base\",\"overrides\":null},\"NewScoring\":1,\"SurveyMetaDescription\":\"The most powerful, simple and trusted way to gather experience data. Start your journey to experience management and try a free account today.\",\"SurveyName\":\"test\"}},{\"SurveyID\":\"SV_43egVSmWXLvDOWa\",\"Element\":\"QGO\",\"PrimaryAttribute\":\"QGO_QuotaGroupOrder\",\"SecondaryAttribute\":null,\"TertiaryAttribute\":null,\"Payload\":[\"QG_GUgSKerjR9xlquL\"]},{\"SurveyID\":\"SV_43egVSmWXLvDOWa\",\"Element\":\"SCO\",\"PrimaryAttribute\":\"Scoring\",\"SecondaryAttribute\":null,\"TertiaryAttribute\":null,\"Payload\":{\"ScoringCategories\":[],\"ScoringCategoryGroups\":[],\"ScoringSummaryCategory\":null,\"ScoringSummaryAfterQuestions\":0,\"ScoringSummaryAfterSurvey\":0,\"DefaultScoringCategory\":null,\"AutoScoringCategory\":null}},{\"SurveyID\":\"SV_43egVSmWXLvDOWa\",\"Element\":\"PROJ\",\"PrimaryAttribute\":\"CORE\",\"SecondaryAttribute\":null,\"TertiaryAttribute\":\"1.1.0\",\"Payload\":{\"ProjectCategory\":\"CORE\",\"SchemaVersion\":\"1.1.0\"}},{\"SurveyID\":\"SV_43egVSmWXLvDOWa\",\"Element\":\"STAT\",\"PrimaryAttribute\":\"Survey Statistics\",\"SecondaryAttribute\":null,\"TertiaryAttribute\":null,\"Payload\":{\"MobileCompatible\":false,\"ID\":\"Survey Statistics\"}},{\"SurveyID\":\"SV_43egVSmWXLvDOWa\",\"Element\":\"QC\",\"PrimaryAttribute\":\"Survey Question Count\",\"SecondaryAttribute\":\"1\",\"TertiaryAttribute\":null,\"Payload\":null},{\"SurveyID\":\"SV_43egVSmWXLvDOWa\",\"Element\":\"QG\",\"PrimaryAttribute\":\"QG_GUgSKerjR9xlquL\",\"SecondaryAttribute\":\"Default Quota Group\",\"TertiaryAttribute\":null,\"Payload\":{\"ID\":\"QG_GUgSKerjR9xlquL\",\"Name\":\"Default Quota Group\",\"Selected\":true,\"MultipleMatch\":\"PlaceInAll\",\"Public\":false,\"Quotas\":[]}},{\"SurveyID\":\"SV_43egVSmWXLvDOWa\",\"Element\":\"RS\",\"PrimaryAttribute\":\"RS_071idxFGjtg0e8K\",\"SecondaryAttribute\":\"Default Response Set\",\"TertiaryAttribute\":null,\"Payload\":null},{\"SurveyID\":\"SV_43egVSmWXLvDOWa\",\"Element\":\"SQ\",\"PrimaryAttribute\":\"QID1\",\"SecondaryAttribute\":\"These sentences have the same structure: A hearing is set for Nov. 15, but participants don't exp...\",\"TertiaryAttribute\":null,\"Payload\":{\"QuestionText\":\"These sentences have the same structure:<br><br>A hearing is set for Nov. 15, but participants don't expect a resolution until July 1990.\\n<br><br>A wrist is strapped for Nov. 15, but mothers don't credit an obedience until July 1990.<br>\",\"DefaultChoices\":false,\"DataExportTag\":\"Q1\",\"QuestionID\":\"QID1\",\"QuestionType\":\"Matrix\",\"Selector\":\"Bipolar\",\"DataVisibility\":{\"Private\":false,\"Hidden\":false},\"Configuration\":{\"QuestionDescriptionOption\":\"UseText\",\"TextPosition\":\"inline\",\"ChoiceColumnWidth\":25,\"Stack\":\"OFF\",\"MobileFirst\":true,\"RepeatHeaders\":\"none\",\"WhiteSpace\":\"OFF\"},\"QuestionDescription\":\"These sentences have the same structure: A hearing is set for Nov. 15, but participants don't exp...\",\"Choices\":{\"1\":{\"Display\":\"Strongly disagree:Somewhat disagree\",\"ExclusiveAnswer\":false}},\"ChoiceOrder\":[1],\"Validation\":{\"Settings\":{\"ForceResponse\":\"OFF\",\"Type\":\"None\"}},\"GradingData\":[],\"Language\":[],\"NextChoiceId\":6,\"NextAnswerId\":6,\"Answers\":{\"1\":{\"Display\":\"1\"},\"2\":{\"Display\":\"2\"},\"3\":{\"Display\":\"3\"},\"4\":{\"Display\":\"4\"},\"5\":{\"Display\":\"5\"}},\"AnswerOrder\":[1,2,3,4,5],\"ChoiceDataExportTags\":false,\"AnswerColumns\":5}}]}\"\"\")\n",
    "default_question = default_survey['SurveyElements'][-1]\n",
    "default_survey['SurveyElements'] = default_survey['SurveyElements'][:-1]\n",
    "default_block = default_survey['SurveyElements'][0]['Payload'][0]"
   ]
  },
  {
   "cell_type": "code",
   "execution_count": 55,
   "id": "a1d87a44-cc7a-4228-8a79-b1e0cb1dabf4",
   "metadata": {},
   "outputs": [
    {
     "data": {
      "text/plain": [
       "{'Type': 'Default',\n",
       " 'Description': 'Default Question Block',\n",
       " 'ID': 'BL_5vgSjmlPOEPQwuy',\n",
       " 'BlockElements': [{'Type': 'Question', 'QuestionID': 'QID1'}]}"
      ]
     },
     "execution_count": 55,
     "metadata": {},
     "output_type": "execute_result"
    }
   ],
   "source": [
    "default_block"
   ]
  },
  {
   "cell_type": "code",
   "execution_count": null,
   "id": "0941500e-ac45-46df-9a3d-4eb4af5c1d82",
   "metadata": {},
   "outputs": [],
   "source": [
    "def make_question_block(question_id):\n",
    "    new_block = copy.deepcopy(default_block)\n",
    "    new_block['BlockElements'][0]['QuestionID'] = question_id\n",
    "    return new_block"
   ]
  },
  {
   "cell_type": "code",
   "execution_count": 48,
   "id": "cb99fc49-0bbf-47c5-afd4-5795bc86b1fb",
   "metadata": {},
   "outputs": [],
   "source": [
    "import csv, copy, random\n",
    "with open(\"devset.csv\") as file:\n",
    "    reader = csv.DictReader(file)\n",
    "    questions = random.choices(list(reader), 20)\n",
    "    for index, row in enumerate(reader):\n",
    "        qtext = fr\"These sentences have the same structure:<br><br>{row['Original Sentence']}<br><br>{row['New Sentence']}<br>\"\n",
    "        qid = index + 1 # row['Sentence ID']\n",
    "\n",
    "        questionId = f'QID{qid}'\n",
    "        questionDescription = qtext.replace(\"<br>\", \" \")[:97] + '...'\n",
    "\n",
    "        new_question = copy.deepcopy(default_question)\n",
    "        new_question['PrimaryAttribute'] = questionId\n",
    "        new_question['SecondaryAttribute'] = questionDescription\n",
    "        new_question['Payload']['QuestionText'] = qtext\n",
    "        new_question['Payload']['DataExportTag'] = f'Q{qid}'\n",
    "        new_question['Payload']['QuestionID'] = questionId\n",
    "        new_question['Payload']['QuestionDescription'] = questionDescription\n",
    "\n",
    "        default_survey['SurveyElements'].append(new_question)\n",
    "        default_survey['SurveyElements'][0]['Payload'].append(make_question_block(questionId))"
   ]
  },
  {
   "cell_type": "code",
   "execution_count": 49,
   "id": "123c799f-b2af-4278-8557-c3e4dd68d743",
   "metadata": {},
   "outputs": [
    {
     "data": {
      "text/plain": [
       "167936"
      ]
     },
     "execution_count": 49,
     "metadata": {},
     "output_type": "execute_result"
    }
   ],
   "source": [
    "open(\"survey.qsf\", \"w\").write(json.dumps(default_survey))"
   ]
  }
 ],
 "metadata": {
  "kernelspec": {
   "display_name": "Python 3 (ipykernel)",
   "language": "python",
   "name": "python3"
  },
  "language_info": {
   "codemirror_mode": {
    "name": "ipython",
    "version": 3
   },
   "file_extension": ".py",
   "mimetype": "text/x-python",
   "name": "python",
   "nbconvert_exporter": "python",
   "pygments_lexer": "ipython3",
   "version": "3.12.0"
  }
 },
 "nbformat": 4,
 "nbformat_minor": 5
}
