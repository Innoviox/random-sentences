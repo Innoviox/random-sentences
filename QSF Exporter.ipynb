{
 "cells": [
  {
   "cell_type": "code",
   "execution_count": 1,
   "id": "63149382-fe04-4d42-b28d-f3fe1fd3c996",
   "metadata": {},
   "outputs": [],
   "source": [
    "import json\n",
    "default_survey = json.load(open(\"default_survey.qsf\"))\n",
    "default_question = default_survey['SurveyElements'][-1]\n",
    "default_survey['SurveyElements'] = default_survey['SurveyElements'][:-1]\n",
    "default_block = default_survey['SurveyElements'][0]['Payload'][0]\n",
    "default_survey['SurveyElements'][0]['Payload'] = [default_survey['SurveyElements'][0]['Payload'][-1]]"
   ]
  },
  {
   "cell_type": "code",
   "execution_count": 2,
   "id": "b0ef902c-58b4-4ccb-99e9-3db1fb0e09a8",
   "metadata": {},
   "outputs": [],
   "source": [
    "def make_question_block(question_id):\n",
    "    block_id = f'BL_{question_id}'\n",
    "    flow_id = f'FL_{question_id}'\n",
    "    \n",
    "    new_block = copy.deepcopy(default_block)\n",
    "    new_block['ID'] = block_id\n",
    "    new_block['Type'] = 'Standard'\n",
    "    new_block['Description'] = block_id\n",
    "    new_block['BlockElements'][0]['QuestionID'] = question_id\n",
    "\n",
    "    default_survey['SurveyElements'][1]['Payload']['Flow'].append({'ID': block_id, 'Type': 'Block', 'FlowID': flow_id})\n",
    "    return new_block\n",
    "\n",
    "def make_question(qid, qtext):\n",
    "    questionId = f'QID{qid}'\n",
    "    questionDescription = qtext.replace(\"<br>\", \" \")[:97] + '...'\n",
    "\n",
    "    new_question = copy.deepcopy(default_question)\n",
    "    new_question['PrimaryAttribute'] = questionId\n",
    "    new_question['SecondaryAttribute'] = questionDescription\n",
    "    new_question['Payload']['QuestionText'] = qtext\n",
    "    new_question['Payload']['DataExportTag'] = f'Q{qid}'\n",
    "    new_question['Payload']['QuestionID'] = questionId\n",
    "    new_question['Payload']['QuestionDescription'] = questionDescription\n",
    "\n",
    "    return new_question"
   ]
  },
  {
   "cell_type": "code",
   "execution_count": 3,
   "id": "23e51228-1cbc-4397-812e-86c7c26292cd",
   "metadata": {},
   "outputs": [],
   "source": [
    "attention_question = r\"These sentences have the same structure:<br><br>For this sentence, ignore what we asked you for and choose 3.<br><br>For this clock, press what we told you for and climb 3.<br>\""
   ]
  },
  {
   "cell_type": "code",
   "execution_count": 4,
   "id": "cb99fc49-0bbf-47c5-afd4-5795bc86b1fb",
   "metadata": {},
   "outputs": [],
   "source": [
    "import csv, copy, random\n",
    "\n",
    "with open(\"devset_wrong.csv\") as wrong:\n",
    "    reader = csv.DictReader(wrong)\n",
    "    wrong_questions = random.sample(list(reader), 25)\n",
    "\n",
    "with open(\"devset.csv\") as file:\n",
    "    reader = csv.DictReader(file)\n",
    "    questions = list(reader)\n",
    "    random.shuffle(questions)\n"
   ]
  },
  {
   "cell_type": "code",
   "execution_count": 5,
   "id": "6c2997ff-de12-4bc8-8ddb-db9034619e2b",
   "metadata": {},
   "outputs": [],
   "source": [
    "def make_survey(q, wq):\n",
    "    default_survey = json.load(open(\"default_survey.qsf\"))\n",
    "    default_question = default_survey['SurveyElements'][-1]\n",
    "    default_survey['SurveyElements'] = default_survey['SurveyElements'][:-1]\n",
    "    default_block = default_survey['SurveyElements'][0]['Payload'][0]\n",
    "    default_survey['SurveyElements'][0]['Payload'] = [default_survey['SurveyElements'][0]['Payload'][-1]]\n",
    "\n",
    "    questions = q + wq\n",
    "    random.shuffle(questions)\n",
    "    for index, row in enumerate(questions):\n",
    "        qid = index + 1\n",
    "        qtext = fr\"These sentences have the same structure:<br><br>{row['Original Sentence']}<br><br>{row['New Sentence']}<br>\"\n",
    "        new_question = make_question(qid, qtext)\n",
    "        \n",
    "        default_survey['SurveyElements'].append(new_question)\n",
    "        default_survey['SurveyElements'][0]['Payload'].append(make_question_block(f'QID{qid}'))\n",
    "\n",
    "        if index == 9:\n",
    "            new_question = make_question(1000, attention_question)\n",
    "            default_survey['SurveyElements'].append(new_question)\n",
    "            default_survey['SurveyElements'][0]['Payload'].append(make_question_block('QID1000'))\n",
    "            \n",
    "    return default_survey"
   ]
  },
  {
   "cell_type": "code",
   "execution_count": 6,
   "id": "aeaaac2b-12ea-4b3c-a94d-6afb92c37eec",
   "metadata": {},
   "outputs": [
    {
     "name": "stderr",
     "output_type": "stream",
     "text": [
      "100%|████████████████████████████████████████████| 5/5 [00:00<00:00, 858.36it/s]\n"
     ]
    }
   ],
   "source": [
    "import tqdm\n",
    "for i in tqdm.trange(5):\n",
    "    with open(f\"survey{i+1}.qsf\", \"w\") as file:\n",
    "        q = questions[i * 20 : i * 20 + 20]\n",
    "        wq = wrong_questions[i * 5 : i * 5 + 5]\n",
    "        survey = make_survey(q, wq)\n",
    "        file.write(json.dumps(survey))"
   ]
  }
 ],
 "metadata": {
  "kernelspec": {
   "display_name": "Python 3 (ipykernel)",
   "language": "python",
   "name": "python3"
  },
  "language_info": {
   "codemirror_mode": {
    "name": "ipython",
    "version": 3
   },
   "file_extension": ".py",
   "mimetype": "text/x-python",
   "name": "python",
   "nbconvert_exporter": "python",
   "pygments_lexer": "ipython3",
   "version": "3.12.0"
  }
 },
 "nbformat": 4,
 "nbformat_minor": 5
}
