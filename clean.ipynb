{
 "cells": [
  {
   "cell_type": "code",
   "execution_count": 1,
   "id": "d5478cb5-7baf-4c15-931a-e1b1582de9db",
   "metadata": {},
   "outputs": [],
   "source": [
    "import pandas as pd\n",
    "import re\n"
   ]
  },
  {
   "cell_type": "code",
   "execution_count": 4,
   "id": "b1543a05-78fe-4cb6-8d1d-86b5250769c1",
   "metadata": {},
   "outputs": [],
   "source": [
    "def clean_sentence(sentence):\n",
    "    # Replace \"na\" with \"to\"\n",
    "    cleaned = re.sub(r'\\bna\\b', 'to', sentence)\n",
    "    \n",
    "    # Fix spaces before punctuation and after dollar signs\n",
    "    cleaned = re.sub(r'\\s+([.,!?])', r'\\1', cleaned)\n",
    "    cleaned = re.sub(r'\\$\\s+', '$', cleaned)\n",
    "    \n",
    "    # Remove specified brackets\n",
    "    cleaned = re.sub(r'\\s*-LRB-|-RRB-|-LCB-|-RCB-\\s*', '', cleaned)\n",
    "    \n",
    "    # Fix capitalization for all-caps words\n",
    "    def fix_caps(match):\n",
    "        word = match.group(0)\n",
    "        # If it's at the start of the sentence, use Title case\n",
    "        if cleaned.index(word) == 0:\n",
    "            return word.capitalize()\n",
    "        # Otherwise use lowercase\n",
    "        return word.lower()\n",
    "\n",
    "    cleaned = cleaned.replace(\" n't\", \"n't\")\n",
    "    cleaned = cleaned.replace(\" 'll\", \"'ll\")\n",
    "    \n",
    "    cleaned = re.sub(r'\\b[A-Z]{2,}\\b', fix_caps, cleaned)\n",
    "    \n",
    "    # Fix incorrect articles\n",
    "    cleaned = re.sub(r'\\ban\\s+([^aeiouAEIOU])', r'a \\1', cleaned)\n",
    "    \n",
    "    return cleaned\n",
    "\n",
    "def process_csv(input_file, output_file):\n",
    "    # Read the CSV file\n",
    "    df = pd.read_csv(input_file)\n",
    "    \n",
    "    # Clean the sentences\n",
    "    df['Original Sentence'] = df['Original Sentence'].apply(clean_sentence)\n",
    "    df['New Sentence'] = df['New Sentence'].apply(clean_sentence)\n",
    "    \n",
    "    # Write to new CSV file\n",
    "    df.to_csv(output_file, index=False)"
   ]
  },
  {
   "cell_type": "code",
   "execution_count": 8,
   "id": "ab9baccc-9bd0-4d6a-bc28-4aa62d6e4f81",
   "metadata": {},
   "outputs": [],
   "source": [
    "# for i in range(10, 20):\n",
    "process_csv(f\"prodset.csv\", f\"prodset_clean.csv\")"
   ]
  }
 ],
 "metadata": {
  "kernelspec": {
   "display_name": "Python 3 (ipykernel)",
   "language": "python",
   "name": "python3"
  },
  "language_info": {
   "codemirror_mode": {
    "name": "ipython",
    "version": 3
   },
   "file_extension": ".py",
   "mimetype": "text/x-python",
   "name": "python",
   "nbconvert_exporter": "python",
   "pygments_lexer": "ipython3",
   "version": "3.12.0"
  }
 },
 "nbformat": 4,
 "nbformat_minor": 5
}
